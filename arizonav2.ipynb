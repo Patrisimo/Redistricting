{
 "cells": [
  {
   "cell_type": "code",
   "execution_count": 1,
   "metadata": {
    "ExecuteTime": {
     "end_time": "2021-11-16T16:58:46.522649Z",
     "start_time": "2021-11-16T16:58:44.021524Z"
    }
   },
   "outputs": [],
   "source": [
    "from zipfile import ZipFile\n",
    "import numpy as np\n",
    "import pandas as pd\n",
    "import matplotlib.pyplot as plt\n",
    "import descartes\n",
    "import geopandas as gpd\n",
    "from shapely.geometry import Point, Polygon\n",
    "import time"
   ]
  },
  {
   "cell_type": "code",
   "execution_count": 2,
   "metadata": {
    "ExecuteTime": {
     "end_time": "2021-11-16T16:59:03.515027Z",
     "start_time": "2021-11-16T16:58:46.527652Z"
    }
   },
   "outputs": [],
   "source": [
    "arizona = ZipFile('az2020.pl.zip')\n",
    "import csv\n",
    "import codecs\n",
    "\n",
    "with codecs.open('geolabels.csv',encoding='latin-1') as file:\n",
    "    geolabels = list(csv.reader(file))[0]\n",
    "with arizona.open('azgeo2020.pl','r') as file:\n",
    "    geo = pd.read_csv(file,sep='|',index_col=False,encoding='latin-1',names=geolabels, keep_default_na=False, low_memory=False)\n",
    "with codecs.open('pl1labels.csv',encoding='utf-8') as file:\n",
    "    pl1labels = list(csv.reader(file))[0]\n",
    "with arizona.open('az000012020.pl','r') as file:\n",
    "    az1 = pd.read_csv(file,sep='|',index_col=False,encoding='utf-8',names=pl1labels, keep_default_na=False, low_memory=False)\n",
    "    \n",
    "with codecs.open('pl2labels.csv',encoding='latin-1') as file:\n",
    "    pl2labels = list(csv.reader(file))[0]    \n",
    "with arizona.open('az000022020.pl','r') as file:\n",
    "    az2 = pd.read_csv(file,sep='|',index_col=False,encoding='latin-1',names=pl2labels, keep_default_na=False, low_memory=False)\n",
    "    \n",
    "with codecs.open('pl3labels.csv',encoding='latin-1') as file:\n",
    "    pl3labels = list(csv.reader(file))[0]    \n",
    "with arizona.open('az000032020.pl','r') as file:\n",
    "    az3 = pd.read_csv(file,sep='|',index_col=False,encoding='latin-1',names=pl3labels, keep_default_na=False, low_memory=False)    "
   ]
  },
  {
   "cell_type": "code",
   "execution_count": 3,
   "metadata": {
    "ExecuteTime": {
     "end_time": "2021-11-16T16:59:07.997241Z",
     "start_time": "2021-11-16T16:59:03.518015Z"
    }
   },
   "outputs": [],
   "source": [
    "census_data = pd.concat([geo, az1, az2, az3],axis=1)\n",
    "alignment_cols = 'COUNTY TRACT BLKGRP'.split()\n",
    "census_data[alignment_cols] = census_data[alignment_cols].apply(lambda x: pd.to_numeric(x, downcast='integer'))\n",
    "# census_data = census_data[census_data['COUNTY']!=13]\n",
    "# census_data = census_data[census_data['COUNTY']!=21]\n",
    "census_data = census_data[census_data['POP100'] > 0]"
   ]
  },
  {
   "cell_type": "markdown",
   "metadata": {
    "heading_collapsed": true
   },
   "source": [
    "# Generate block data"
   ]
  },
  {
   "cell_type": "code",
   "execution_count": 4,
   "metadata": {
    "ExecuteTime": {
     "end_time": "2021-11-16T16:59:25.689365Z",
     "start_time": "2021-11-16T16:59:08.002227Z"
    },
    "hidden": true
   },
   "outputs": [
    {
     "name": "stdout",
     "output_type": "stream",
     "text": [
      "N= 4755\n",
      "COUNTY 15\n",
      "COUSUB 80\n",
      "PLACE 466\n",
      "AIANHH 22\n",
      "AITS 101\n",
      "AIHHTLI 3\n",
      "SDELM 105\n",
      "SDSEC 16\n",
      "SDUNI 99\n",
      "MEMI 3\n",
      "CSA 3\n",
      "CBSAPCI 3\n",
      "D= 917\n"
     ]
    }
   ],
   "source": [
    "# Do some computations\n",
    "block_data = census_data[census_data['SUMLEV']==750]\n",
    "group_data = census_data[census_data['SUMLEV']==150]\n",
    "# This is stupid\n",
    "# block_data = block_data.astype({'COUNTY': int, 'TRACT': int, 'BLKGRP': int})\n",
    "# group_data = group_data.astype({'COUNTY': int, 'TRACT': int, 'BLKGRP': int})\n",
    "nonnumeric_cols = 'COUNTY COUSUB PLACE AIANHH AITS AIHHTLI SDELM SDSEC SDUNI MEMI CSA METDIV CBSAPCI'\n",
    "tract_class_cols = {c:{a:b for b,a in enumerate(set(block_data[c]))} for c in nonnumeric_cols.split()}\n",
    "uniq = [k for k,v in tract_class_cols.items() if len(v) < 2 ]\n",
    "for k in uniq:\n",
    "    tract_class_cols.pop(k)\n",
    "print('N=', len(group_data))\n",
    "cols = 1\n",
    "for cname, c in tract_class_cols.items():\n",
    "    print(cname,len(c))\n",
    "    cols += len(c)\n",
    "    for ci in c:\n",
    "        assert len(block_data[block_data[cname]==ci]) > 0, (cname, ci)\n",
    "print('D=', cols)\n",
    "    \n",
    "def row_length():\n",
    "    idx = 0\n",
    "    # Classifications\n",
    "    for c,dc in tract_class_cols.items():\n",
    "        idx += len(dc)\n",
    "    # Geographic numerics\n",
    "    idx += 4\n",
    "    # Demographics\n",
    "    # All\n",
    "    idx += 8\n",
    "    # Hispanic\n",
    "    idx += 9\n",
    "    # 18+\n",
    "    idx += 9\n",
    "    # Hispanic\n",
    "    idx += 9 \n",
    "    # Housing\n",
    "    # Group quarters\n",
    "    idx += 9\n",
    "    return idx\n",
    "\n",
    "def row_titles():\n",
    "    titles = []\n",
    "    # Classifications\n",
    "    for c,dc in tract_class_cols.items():\n",
    "        for dcname in dc:\n",
    "            titles.append(c + ' ' + str(dcname))\n",
    "            \n",
    "    # Geographic numerics\n",
    "    titles.extend(['AREA', 'POP DENSITY', 'HOUSING DENSITY', 'LATITUDE', 'LONGITUDE'])\n",
    "    # Demographics\n",
    "    # All\n",
    "    titles.extend(['% WHITE', '% BLACK', '% INDIAN', '% ASIAN', '% PI/AK', '% OTHER', '% TWO'])\n",
    "    # Hispanic\n",
    "    titles.extend(['% HISPANIC', '% WHITE (HISP)', '% BLACK (HISP)', '% INDIAN (HISP)', '% ASIAN (HISP)', '% PI/AK (HISP)', '% OTHER (HISP)', '% TWO (HISP)'])\n",
    "    # 18+\n",
    "    titles.extend(['% 18+', '% WHITE (18+)', '% BLACK (18+)', '% INDIAN (18+)', '% ASIAN (18+)', '% PI/AK (18+)', '% OTHER (18+)', '% TWO (18+)'])\n",
    "    # Hispanic\n",
    "    titles.extend(['% HISPANIC&18+', '% WHITE (HISP&18+)', '% BLACK (HISP&18+)', '% INDIAN (HISP&18+)', '% ASIAN (HISP&18+)', '% PI/AK (HISP&18+)', '% OTHER (HISP&18+)', '% TWO (HISP&18+)'])\n",
    "    # Housing\n",
    "    # Group quarters\n",
    "    titles.extend(['% CORRECTIONAL', '% JUVENILE', '% NURSING', '% OTHER GROUP1', '% COLLEGE', '% MILITARY', '% OTHER GROUP2'])\n",
    "    return titles\n",
    "\n",
    "def title_types():\n",
    "    titles = {}\n",
    "    # Classifications\n",
    "    for c,dc in tract_class_cols.items():\n",
    "        for dcname in dc:\n",
    "            titles[c + ' ' + str(dcname)]= 'BOOL'\n",
    "    nums = [] \n",
    "    # Geographic numerics\n",
    "    nums.extend(['AREA', 'POP DENSITY', 'HOUSING DENSITY', 'LATITUDE', 'LONGITUDE'])\n",
    "    for n in nums:\n",
    "        titles[n] = 'NUM'\n",
    "    nums = []\n",
    "    # Demographics\n",
    "    # All\n",
    "    nums.extend(['% WHITE', '% BLACK', '% INDIAN', '% ASIAN', '% PI/AK', '% OTHER', '% TWO'])\n",
    "    # Hispanic\n",
    "    nums.extend(['% HISPANIC', '% WHITE (HISP)', '% BLACK (HISP)', '% INDIAN (HISP)', '% ASIAN (HISP)', '% PI/AK (HISP)', '% OTHER (HISP)', '% TWO (HISP)'])\n",
    "    # 18+\n",
    "    nums.extend(['% 18+', '% WHITE (18+)', '% BLACK (18+)', '% INDIAN (18+)', '% ASIAN (18+)', '% PI/AK (18+)', '% OTHER (18+)', '% TWO (18+)'])\n",
    "    # Hispanic\n",
    "    nums.extend(['% HISPANIC&18+', '% WHITE (HISP&18+)', '% BLACK (HISP&18+)', '% INDIAN (HISP&18+)', '% ASIAN (HISP&18+)', '% PI/AK (HISP&18+)', '% OTHER (HISP&18+)', '% TWO (HISP&18+)'])\n",
    "    # Housing\n",
    "    # Group quarters\n",
    "    nums.extend(['% CORRECTIONAL', '% JUVENILE', '% NURSING', '% OTHER GROUP1', '% COLLEGE', '% MILITARY', '% OTHER GROUP2'])\n",
    "    \n",
    "    for n in nums:\n",
    "        titles[n] = 'PCT'\n",
    "    \n",
    "    return titles    \n",
    "\n",
    "\n",
    "def get_info(blocks):\n",
    "    row_info = np.zeros(row_length())\n",
    "#     blocks = census_data[(census_data['SUMLEV']==750) & (census_data['BLKGRP']==blk['BLKGRP']) & (census_data['TRACT']==blk['TRACT'])]\n",
    "    total_pop = 0\n",
    "    rts = row_titles()\n",
    "    for _,blk in blocks.iterrows():\n",
    "        row_data = np.zeros( row_length())\n",
    "        idx = 0\n",
    "        # Classifications\n",
    "        block_pop = blk['POP100']  \n",
    "        total_pop += block_pop\n",
    "        for c,dc in tract_class_cols.items():\n",
    "    #         print(idx, ': ', c)\n",
    "            assert rts[idx + dc[blk[c]]] == c + ' ' + str(blk[c]), (rts[idx + dc[blk[c]]], c + ' ' + str(blk[c]))\n",
    "            row_data[idx+dc[blk[c]]] = 1\n",
    "            idx += len(dc)\n",
    "\n",
    "        # Geographic numerics\n",
    "        block_area = blk['AREALAND']+blk['AREAWATR']\n",
    "        row_data[idx] += blk['AREALAND'] / block_area # % land\n",
    "\n",
    "        row_data[idx+1] = block_pop / block_area # pop density\n",
    "        block_dens = block_pop / block_area\n",
    "        row_data[idx+2] = blk['HU100'] / max(1,blk['POP100']) # housing density\n",
    "        row_data[idx+3] = blk['INTPTLAT']\n",
    "        row_data[idx+4] = blk['INTPTLON']\n",
    "        if row_data[idx+4] < -1000:\n",
    "            print('wtf')\n",
    "            print(blk)\n",
    "    #     print(idx)\n",
    "        idx += 4\n",
    "        # Demographics\n",
    "        # All\n",
    "        block_pop = max(1,blk['P0010001'])\n",
    "        row_data[idx+1] = blk['P0010003']  / block_pop # % white\n",
    "        row_data[idx+2] = blk['P0010004']  / block_pop # % black\n",
    "        row_data[idx+3] = blk['P0010005']  / block_pop # % indian/native\n",
    "        row_data[idx+4] = blk['P0010006']  / block_pop # % asian\n",
    "        row_data[idx+5] = blk['P0010007']  / block_pop # % island\n",
    "        row_data[idx+6] = blk['P0010008']  / block_pop # % other\n",
    "        row_data[idx+7] = blk['P0010010']  / block_pop # % two\n",
    "        row_data[idx+8] = (blk['P0010009']-blk['P0010010'])  / block_pop # % >2\n",
    "        idx += 8\n",
    "    #     print(idx)\n",
    "        # Hispanic\n",
    "        hisp_pop = blk['P0020003']\n",
    "        row_data[idx+1] = hisp_pop  / block_pop # % hispanic\n",
    "        if hisp_pop == 0:\n",
    "            hisp_pop = 1\n",
    "        row_data[idx+2] = blk['P0020005']  / hisp_pop # % white\n",
    "        row_data[idx+3] = blk['P0020006']  / hisp_pop # % black\n",
    "        row_data[idx+4] = blk['P0020007']  / hisp_pop # % indian/native\n",
    "        row_data[idx+5] = blk['P0020008']  / hisp_pop # % asian\n",
    "        row_data[idx+6] = blk['P0020009']  / hisp_pop # % island\n",
    "        row_data[idx+7] = blk['P0020010']  / hisp_pop # % other\n",
    "        row_data[idx+8] = blk['P0020012']  / hisp_pop # % two\n",
    "        row_data[idx+9] = (blk['P0020011']-blk['P0020012'])  / hisp_pop # % >2\n",
    "        idx += 9\n",
    "    #     print(idx)\n",
    "        # 18+\n",
    "        adult_pop = blk['P0030001']\n",
    "        row_data[idx+1] = adult_pop / block_pop # % adult\n",
    "        if adult_pop == 0:\n",
    "            adult_pop = 1\n",
    "        row_data[idx+2] = blk['P0030003']  / adult_pop # % white\n",
    "        row_data[idx+3] = blk['P0030004']  / adult_pop # % black\n",
    "        row_data[idx+4] = blk['P0030005']  / adult_pop # % indian/native\n",
    "        row_data[idx+5] = blk['P0030006']  / adult_pop # % asian\n",
    "        row_data[idx+6] = blk['P0030007']  / adult_pop # % island\n",
    "        row_data[idx+7] = blk['P0030008']  / adult_pop # % other\n",
    "        row_data[idx+8] = blk['P0030010']  / adult_pop # % two\n",
    "        row_data[idx+9] = (blk['P0030009']-blk['P0030010'])  / adult_pop # % >2\n",
    "        idx += 9\n",
    "    #     print(idx)\n",
    "        # Hispanic\n",
    "        hispadult_pop = blk['P0040003']\n",
    "        row_data[idx+1] = hispadult_pop  / block_pop # % hispanic\n",
    "        if hispadult_pop == 0:\n",
    "            hispadult_pop = 1\n",
    "        row_data[idx+2] = blk['P0040005']  / hispadult_pop # % white\n",
    "        row_data[idx+3] = blk['P0040006']  / hispadult_pop # % black\n",
    "        row_data[idx+4] = blk['P0040007']  / hispadult_pop # % indian/native\n",
    "        row_data[idx+5] = blk['P0040008']  / hispadult_pop # % asian\n",
    "        row_data[idx+6] = blk['P0040009']  / hispadult_pop # % island\n",
    "        row_data[idx+7] = blk['P0040010']  / hispadult_pop # % other\n",
    "        row_data[idx+8] = blk['P0040012']  / hispadult_pop # % two\n",
    "        row_data[idx+9] = (blk['P0040011']-blk['P0040012'])  / hispadult_pop # % >2\n",
    "        idx += 9 \n",
    "\n",
    "        # Housing\n",
    "        row_data[idx+1] = blk['H0010002'] / max(1,blk['H0010001'])\n",
    "    #     print(idx)\n",
    "        # Group quarters\n",
    "        row_data[idx+2] = blk['P0050003']  / block_pop # % correctional\n",
    "        row_data[idx+3] = blk['P0050004']  / block_pop # % juvenile\n",
    "        row_data[idx+4] = blk['P0050005']  / block_pop # % nursing\n",
    "        row_data[idx+5] = blk['P0050006']  / block_pop # % other\n",
    "        row_data[idx+6] = blk['P0050008']  / block_pop # % college\n",
    "        row_data[idx+7] = blk['P0050009']  / block_pop # % military\n",
    "        row_data[idx+8] = blk['P0050010']  / block_pop # % other\n",
    "#     print(idx+8)\n",
    "        row_info += blk['POP100'] * row_data\n",
    "        \n",
    "    if total_pop == 0:\n",
    "        return row_info\n",
    "    else:\n",
    "        return row_info / total_pop\n",
    "\n",
    "\n",
    "def progress_bar(i,n,k):\n",
    "    print('[%s%d%s] - %10d' % ( '|'*max(0, int(k*i/n)-1), int(10*((k*i)/n % 1)), '.'*(k - max(0, int(k*i/n)-1)), i), end='\\r')"
   ]
  },
  {
   "cell_type": "markdown",
   "metadata": {},
   "source": [
    "# create matrix"
   ]
  },
  {
   "cell_type": "code",
   "execution_count": 5,
   "metadata": {
    "ExecuteTime": {
     "end_time": "2021-11-16T17:07:10.710657Z",
     "start_time": "2021-11-16T16:59:25.693344Z"
    }
   },
   "outputs": [
    {
     "name": "stdout",
     "output_type": "stream",
     "text": [
      "[||||||||||||||||||||||||||||||||||||||||||||||||9..] -       4754\n",
      "464.97530341148376\n"
     ]
    }
   ],
   "source": [
    "# numeric_cols = 'AREALAND AREAWATR POP100 HU100 INTPTLAT INTPTLON'\n",
    "# pop_cols1 = 'P0010001 P0010003 P0010004 P0010005 P0010006 P0010007 P0010008 P0010010 P0010009'\n",
    "# pop_cols2 = 'P0020001 P0020005 P0020006 P0020007 P0020008 P0020009 P0020010 P0020012 P0020011'\n",
    "# pop_cols3 =  'P0030001 P0030003 P0030004 P0030005 P0030006 P0030007 P0030008 P0030010 P0030009'\n",
    "# pop_cols4 =  'P0040001 P0040005 P0040006 P0040007 P0040008 P0040009 P0040010 P0040012 P0040011'\n",
    "tm=time.time()\n",
    "rlen = row_length()\n",
    "group_mat = np.zeros((group_data.shape[0], rlen))\n",
    "counties = set(group_data['COUNTY'])\n",
    "geocode_order = []\n",
    "populations = []\n",
    "for c in counties:\n",
    "    county_blocks = block_data[block_data['COUNTY']==c]\n",
    "    county_groups = group_data[group_data['COUNTY']==c]\n",
    "    tracts = set(county_groups['TRACT'])\n",
    "    for t in tracts:\n",
    "        tract_blocks = county_blocks[county_blocks['TRACT']==t]\n",
    "        tract_groups = county_groups[county_groups['TRACT']==t]\n",
    "        for _,g in tract_groups.iterrows():\n",
    "            progress_bar(len(geocode_order),len(group_data),50)\n",
    "            group_blocks = tract_blocks[tract_blocks['BLKGRP']==g['BLKGRP']]\n",
    "            group_mat[len(geocode_order)] = get_info(group_blocks)\n",
    "            geocode_order.append(g['GEOCODE'])\n",
    "            populations.append(g['POP100'])\n",
    "            if group_mat.min() < -1000:\n",
    "                print('wtf')\n",
    "                raise Exception()\n",
    "print()\n",
    "print(time.time() - tm)"
   ]
  },
  {
   "cell_type": "markdown",
   "metadata": {
    "heading_collapsed": true
   },
   "source": [
    "## Do the clustering"
   ]
  },
  {
   "cell_type": "code",
   "execution_count": 6,
   "metadata": {
    "ExecuteTime": {
     "end_time": "2021-11-16T17:07:10.837641Z",
     "start_time": "2021-11-16T17:07:10.712640Z"
    },
    "hidden": true
   },
   "outputs": [
    {
     "name": "stdout",
     "output_type": "stream",
     "text": [
      "0\n",
      "0\n",
      "0\n",
      "0\n"
     ]
    }
   ],
   "source": [
    "\n",
    "print(np.isnan(group_mat).sum())\n",
    "print(np.isinf(group_mat).sum())\n",
    "group_std = group_mat / np.std(group_mat, axis=0)\n",
    "print(np.isnan(group_std).sum())\n",
    "print(np.isinf(group_std).sum())\n",
    "# group_std[np.isnan(group_std)] = 0\n",
    "# group_std[np.isinf(group_std)] = 0"
   ]
  },
  {
   "cell_type": "code",
   "execution_count": 7,
   "metadata": {
    "ExecuteTime": {
     "end_time": "2021-11-16T17:07:10.948640Z",
     "start_time": "2021-11-16T17:07:10.840643Z"
    },
    "hidden": true
   },
   "outputs": [
    {
     "name": "stdout",
     "output_type": "stream",
     "text": [
      "(964,)\n",
      "0\n",
      "5.486329717548974e-06\n",
      "[5.486329717548974e-06, 1.7282919479713124e-05, 1.8614081442209532e-05, 2.007764398732027e-05, 2.4217736022515507e-05, 3.1016833034183276e-05, 3.840430802284194e-05, 5.241097389210784e-05, 6.988129852280789e-05, 7.132228632813493e-05, 7.838037537016824e-05, 8.554790232141982e-05, 8.735162315351104e-05, 9.524052179626686e-05, 0.00010223527222194887, 0.00010385224310460702, 0.00010972659435097025, 0.00010980506940793587, 0.00011521292406852685, 0.0001215845248782143]\n",
      "0\n",
      "-111.8839808029403\n",
      "[-111.8839808029403, 7.957054187141162e-08, 2.506614328559486e-07, 2.699678333326584e-07, 3.512399869163105e-07, 4.069179312879994e-07, 4.4985014367088965e-07, 5.569937930998813e-07, 7.601383451788225e-07, 1.0135177935717635e-06, 1.0344170443283508e-06, 1.1367834711683293e-06, 1.240737121924135e-06, 1.2668972419647044e-06, 1.3813132490386924e-06, 1.4827610493499947e-06, 1.5062126565166762e-06, 1.5914108374282323e-06, 1.5925489941062417e-06, 1.670981379299644e-06]\n",
      "0\n",
      "AITS 261\n"
     ]
    }
   ],
   "source": [
    "std = np.std(group_mat, axis=0)\n",
    "print(std.shape)\n",
    "print(np.isnan(std).sum())\n",
    "print(min(std))\n",
    "print(sorted(std)[:20])\n",
    "print(sum(std==0))\n",
    "ag = np.argmin(std)\n",
    "rt = row_titles()\n",
    "mn = np.mean(group_mat, axis=0)\n",
    "print(min(mn))\n",
    "print(sorted(mn)[:20])\n",
    "print(sum(mn==0))\n",
    "print(rt[ag])"
   ]
  },
  {
   "cell_type": "code",
   "execution_count": 8,
   "metadata": {
    "ExecuteTime": {
     "end_time": "2021-11-16T17:07:10.995640Z",
     "start_time": "2021-11-16T17:07:10.955643Z"
    },
    "hidden": true
   },
   "outputs": [
    {
     "name": "stdout",
     "output_type": "stream",
     "text": [
      "(4755, 964)\n"
     ]
    }
   ],
   "source": [
    "group_pops = np.array(populations)\n",
    "group_codes = np.array(geocode_order)\n",
    "group_mat_nz = group_mat[group_pops > 0]\n",
    "print(group_mat_nz.shape)\n",
    "group_codes_nz = group_codes[group_pops > 0]\n",
    "group_pops_nz = group_pops[group_pops > 0]"
   ]
  },
  {
   "cell_type": "code",
   "execution_count": 9,
   "metadata": {
    "ExecuteTime": {
     "end_time": "2021-11-16T17:07:13.151640Z",
     "start_time": "2021-11-16T17:07:11.000646Z"
    },
    "hidden": true
   },
   "outputs": [
    {
     "name": "stderr",
     "output_type": "stream",
     "text": [
      "findfont: Font family ['STIXGeneral'] not found. Falling back to DejaVu Sans.\n",
      "findfont: Font family ['STIXGeneral'] not found. Falling back to DejaVu Sans.\n",
      "findfont: Font family ['STIXGeneral'] not found. Falling back to DejaVu Sans.\n",
      "findfont: Font family ['STIXNonUnicode'] not found. Falling back to DejaVu Sans.\n",
      "findfont: Font family ['STIXNonUnicode'] not found. Falling back to DejaVu Sans.\n",
      "findfont: Font family ['STIXNonUnicode'] not found. Falling back to DejaVu Sans.\n",
      "findfont: Font family ['STIXSizeOneSym'] not found. Falling back to DejaVu Sans.\n",
      "findfont: Font family ['STIXSizeTwoSym'] not found. Falling back to DejaVu Sans.\n",
      "findfont: Font family ['STIXSizeThreeSym'] not found. Falling back to DejaVu Sans.\n",
      "findfont: Font family ['STIXSizeFourSym'] not found. Falling back to DejaVu Sans.\n",
      "findfont: Font family ['STIXSizeFiveSym'] not found. Falling back to DejaVu Sans.\n",
      "findfont: Font family ['cmsy10'] not found. Falling back to DejaVu Sans.\n",
      "findfont: Font family ['cmr10'] not found. Falling back to DejaVu Sans.\n",
      "findfont: Font family ['cmtt10'] not found. Falling back to DejaVu Sans.\n",
      "findfont: Font family ['cmmi10'] not found. Falling back to DejaVu Sans.\n",
      "findfont: Font family ['cmb10'] not found. Falling back to DejaVu Sans.\n",
      "findfont: Font family ['cmss10'] not found. Falling back to DejaVu Sans.\n",
      "findfont: Font family ['cmex10'] not found. Falling back to DejaVu Sans.\n",
      "findfont: Font family ['DejaVu Sans Display'] not found. Falling back to DejaVu Sans.\n"
     ]
    },
    {
     "data": {
      "image/png": "[encoded data removed]",
      "text/plain": [
       "<Figure size 432x288 with 1 Axes>"
      ]
     },
     "metadata": {
      "needs_background": "light"
     },
     "output_type": "display_data"
    }
   ],
   "source": [
    "group_nml_nz = (group_mat_nz - np.min(group_mat_nz, axis=0)) / (np.max(group_mat_nz, axis=0) - np.min(group_mat_nz, axis=0))\n",
    "u,s,vt = np.linalg.svd(group_nml_nz, full_matrices=False)\n",
    "plt.plot(s)\n",
    "plt.yscale('log')\n",
    "plt.show()"
   ]
  },
  {
   "cell_type": "markdown",
   "metadata": {},
   "source": [
    "## WAG code"
   ]
  },
  {
   "cell_type": "code",
   "execution_count": 10,
   "metadata": {
    "ExecuteTime": {
     "end_time": "2021-11-16T17:07:16.126640Z",
     "start_time": "2021-11-16T17:07:13.154642Z"
    }
   },
   "outputs": [],
   "source": [
    "class Tree:\n",
    "    def __init__(self, members, population, vector, left=None, right=None, up=None):\n",
    "        self.members = members\n",
    "        self.population = population\n",
    "        self.vector = vector\n",
    "        self.left = left\n",
    "        self.right = right\n",
    "        self.up = up\n",
    "        self.side = None\n",
    "    def merge(self, other):\n",
    "        vector = (self.vector * self.population + other.vector * other.population) / (self.population + other.population)\n",
    "        up = Tree(self.members.union(other.members), self.population + other.population, vector, left=self, right=other)\n",
    "        self.up = up\n",
    "        self.side = 'left'\n",
    "        other.up = up\n",
    "        other.side = 'right'\n",
    "        return up\n",
    "    def child(self, other):\n",
    "        if self.left is not None:\n",
    "            self.left = other\n",
    "        elif self.right is not None:\n",
    "            self.right = other\n",
    "        else:\n",
    "            raise Exception()\n",
    "        other.up = self\n",
    "    def remove(self):\n",
    "        if self.up is not None:\n",
    "            if self.side == 'left':\n",
    "                self.up.left = None\n",
    "            else:\n",
    "                self.up.right = None\n",
    "            if self.up.members == self.members:\n",
    "                assert self.up.left == None, self.side\n",
    "                assert self.up.right == None, self.side\n",
    "                assert self.up.population == self.population\n",
    "                self.up.remove()\n",
    "            else:\n",
    "                self.up.vector = (self.up.population * self.up.vector - self.population * self.vector) / (self.up.population - self.population)\n",
    "                self.up.members.difference_update(self.members)\n",
    "                self.up.population -= self.population\n",
    "            self.side = None\n",
    "            self.up = None\n",
    "\n",
    "from multiprocessing import Pool, RawArray\n",
    "var_dict = {}\n",
    "\n",
    "def init_worker(populations, pop_shape, matrix, matrix_shape):\n",
    "    var_dict['populations'] = populations\n",
    "    var_dict['pop_shape'] = pop_shape\n",
    "    var_dict['matrix'] = matrix\n",
    "    var_dict['matrix_shape'] = matrix_shape\n",
    "    \n",
    "def worker_func(tup):\n",
    "    populations = np.frombuffer(var_dict['populations']).reshape(var_dict['pop_shape'])\n",
    "    matrix = np.frombuffer(var_dict['matrix']).reshape(var_dict['matrix_shape'])\n",
    "    i,j = tup\n",
    "    return i,j, 4*populations[i]*populations[j]*np.square(matrix[i] - matrix[j]).sum() / \\\n",
    "                     ((populations[i]+1)*(populations[j]+1))\n",
    "\n",
    "def prepare_data(array):\n",
    "    X = RawArray('d', array.size)\n",
    "    X_np = np.frombuffer(X).reshape(array.shape)\n",
    "    np.copyto(X_np, array)\n",
    "    return X\n",
    "    \n",
    "class WeightedAgglomerativeClustering:\n",
    "    def __init__(self, n_clusters=1):\n",
    "        self.n_clusters_ = n_clusters\n",
    "        self.labels_ = None\n",
    "        self.children_ = None\n",
    "        self.population_ = None\n",
    "        self.tree = None\n",
    "    def fit(self, matrix, populations, processes=1):\n",
    "        pop_limit = sum(populations) / self.n_clusters_\n",
    "        clusters = {i: Tree(members={i}, population=populations[i], vector=matrix[i]) for i in range(len(matrix))}\n",
    "        if processes > 1:\n",
    "            pop_shape = populations.shape\n",
    "            matrix_shape = matrix.shape\n",
    "            pop_mp = prepare_data(populations)\n",
    "            mat_mp = prepare_data(matrix)\n",
    "            with Pool(processes=processes, initializer=init_worker, initargs=(pop_mp, pop_shape, mat_mp, matrix_shape)) as pool:\n",
    "                dists = pool.map(worker_func, [(i,j) for i in range(len(matrix)) for j in range(i+1,len(matrix))])\n",
    "            distances = {(i,j): d for i,j,d in dists}\n",
    "        else:\n",
    "            distances = {(i,j): \\\n",
    "                     4*populations[i]*populations[j]*np.square(matrix[i] - matrix[j]).sum() / \\\n",
    "                     ((populations[i]+1)*(populations[j]+1)) for i in range(len(matrix)) for j in range(i+1,len(matrix))}\n",
    "        idx = len(clusters)\n",
    "        children = []\n",
    "        \n",
    "        while len(clusters) > self.n_clusters_:\n",
    "            print('{0: < 10}'.format(len(clusters)), end='\\r')\n",
    "            # Find the closest pair of clusters that don't exceed the pop_limit\n",
    "            i,j = min(distances.items(), key=lambda x: x[1])[0]\n",
    "            if clusters[i].population + clusters[j].population > pop_limit:\n",
    "                break\n",
    "            joined = clusters[i].merge(clusters[j])\n",
    "            for c2 in clusters:\n",
    "                if c2 == i or c2 == j:\n",
    "                    continue\n",
    "                total_pop = clusters[i].population + clusters[j].population + clusters[c2].population\n",
    "                \n",
    "                if total_pop > pop_limit:\n",
    "                    distances[(c2,idx)] = np.inf\n",
    "                else:\n",
    "                    distances[(c2,idx)] = (clusters[i].population + clusters[c2].population)*distances[tuple(sorted([i,c2]))] / total_pop  +  (clusters[j].population + clusters[c2].population)*distances[tuple(sorted([j,c2]))] / total_pop -  clusters[c2].population *distances[tuple(sorted([i,j]))] / total_pop\n",
    "            clusters[idx] = joined   \n",
    "            children.append((i,j,idx,joined.population, distances[(i,j)]))\n",
    "            to_remove = []\n",
    "            for k in distances:\n",
    "                if i in k or j in k:\n",
    "                    to_remove.append(k)\n",
    "            for k in to_remove:\n",
    "                distances.pop(k)\n",
    "            clusters.pop(i)\n",
    "            clusters.pop(j)\n",
    "            idx += 1\n",
    "        self.children_ = children\n",
    "        self.population_ = populations\n",
    "        return clusters\n",
    "    \n",
    "def copy_tree(tree):\n",
    "    new_tree = Tree(set([m for m in tree.members]), tree.population, tree.vector.copy())\n",
    "    if tree.left is not None:\n",
    "        new_tree.left = copy_tree(tree.left)\n",
    "        new_tree.left.up = new_tree\n",
    "    if tree.right is not None:\n",
    "        new_tree.right = copy_tree(tree.right)\n",
    "        new_tree.right.up = new_tree\n",
    "    new_tree.side = tree.side\n",
    "    return new_tree\n",
    "\n",
    "def tree_distance(t1, t2):\n",
    "    if t1.left is not None and t1.right is not None:\n",
    "        if hasattr(t1,'sibling_distance') and t1.sibling_distance is not None:\n",
    "            sib_dist = t1.sibling_distance\n",
    "        else:\n",
    "            t1.sibling_distance = tree_distance(t1.left, t1.right)\n",
    "            sib_dist = t1.sibling_distance\n",
    "        total_pop = t1.population + t2.population\n",
    "        return (t1.left.population + t2.population) * tree_distance(t1.left, t2) / total_pop \\\n",
    "                + (t1.right.population + t2.population) * tree_distance(t1.right, t2) / total_pop \\\n",
    "                + (t1.population) * sib_dist / total_pop\n",
    "    elif t2.left is not None and t2.right is not None:\n",
    "        if hasattr(t2,'sibling_distance') and t2.sibling_distance is not None:\n",
    "            sib_dist = t2.sibling_distance\n",
    "        else:\n",
    "            t2.sibling_distance = tree_distance(t2.left, t2.right)\n",
    "            sib_dist = t2.sibling_distance\n",
    "        total_pop = t1.population + t2.population\n",
    "        return (t2.left.population + t1.population) * tree_distance(t2.left, t1) / total_pop \\\n",
    "                + (t2.right.population + t1.population) * tree_distance(t2.right, t1) / total_pop \\\n",
    "                + (t2.population) * sib_dist / total_pop\n",
    "    else:\n",
    "        return 4*t1.population*t2.population * np.linalg.norm(t1.vector - t2.vector)**2 / ((t1.population+1)*(t2.population+1))\n",
    "    \n",
    "def balance2(clusters, n):\n",
    "        clusters = {key: copy_tree(c) for key,c in clusters.items()}\n",
    "        pop_limit = sum(c.population for c in clusters.values()) / n\n",
    "        # make sure we can't do any initial merging\n",
    "        pop = sorted([c.population for c in clusters.values()]) \n",
    "        if pop[0] + pop[1] < pop_limit:\n",
    "            distances = {(i,j): tree_distance(c1,c2) for i,c1 in clusters.items() for j,c2 in clusters.items() if i < j}\n",
    "            while len(clusters) > n:\n",
    "                print('{0: < 10}'.format(len(clusters)), end='\\r')\n",
    "                # Find the closest pair of clusters that don't exceed the pop_limit\n",
    "                i,j = min(distances.items(), key=lambda x: x[1])[0]\n",
    "                if clusters[i].population + clusters[j].population > pop_limit:\n",
    "                    break\n",
    "                joined = clusters[i].merge(clusters[j])\n",
    "                for c2 in clusters:\n",
    "                    if c2 == i or c2 == j:\n",
    "                        continue\n",
    "                    total_pop = clusters[i].population + clusters[j].population + clusters[c2].population\n",
    "\n",
    "                    if total_pop > pop_limit:\n",
    "                        distances[(c2,idx)] = np.inf\n",
    "                    else:\n",
    "                        distances[(c2,idx)] = (clusters[i].population + clusters[c2].population)*distances[tuple(sorted([i,c2]))] / total_pop  +  (clusters[j].population + clusters[c2].population)*distances[tuple(sorted([j,c2]))] / total_pop -  clusters[c2].population *distances[tuple(sorted([i,j]))] / total_pop\n",
    "                clusters[idx] = joined   \n",
    "                children.append((i,j,idx,joined.population))\n",
    "                to_remove = []\n",
    "                for k in distances:\n",
    "                    if i in k or j in k:\n",
    "                        to_remove.append(k)\n",
    "                for k in to_remove:\n",
    "                    distances.pop(k)\n",
    "                clusters.pop(i)\n",
    "                clusters.pop(j)\n",
    "                idx += 1\n",
    "\n",
    "            print()\n",
    "        # split up the smaller clusters\n",
    "        big_clusters = {key: value for key,value in sorted(clusters.items(), key=lambda x: -x[1].population)[:n]}\n",
    "        small_clusters = {key: value for key,value in sorted(clusters.items(), key=lambda x: -x[1].population)[n:]}        \n",
    "        while len(small_clusters) > 0:\n",
    "            # For each small cluster, create the agglomeration tree\n",
    "            print('Population: {0: < 12}'.format(sum([c.population for c in small_clusters.values()])), end='\\r')\n",
    "            best_cluster = None\n",
    "            best_dist = np.inf\n",
    "            for clus in small_clusters:\n",
    "#                 clus_mat = matrix[small_clusters[clus].members]\n",
    "#                 clus_pops = populations[small_clusters[clus].members]\n",
    "                # Now, for each big cluster, cut the tree into clusters that fit\n",
    "                for big_clus in big_clusters:\n",
    "#                     if min(clus_pops) + big_clusters[big_clus].population > pop_limit:\n",
    "#                         continue # We'll do this later\n",
    "                    \n",
    "                    cluster_stack = [small_clusters[clus]]\n",
    "                    while len(cluster_stack) > 0:\n",
    "                        cluster = cluster_stack.pop(0)\n",
    "                        if cluster.population + big_clusters[big_clus].population <= pop_limit:\n",
    "                            dist = np.linalg.norm(cluster.vector - big_clusters[big_clus].vector)**2\n",
    "                            if dist < best_dist:\n",
    "                                best_dist = dist\n",
    "                                best_cluster = (big_clus, clus, cluster)\n",
    "                        else:\n",
    "                            if cluster.left is not None:\n",
    "                                cluster_stack.append(cluster.left)\n",
    "                            if cluster.right is not None:\n",
    "                                cluster_stack.append(cluster.right)\n",
    "            if best_cluster is None:\n",
    "                # All remaining things cause some cluster to breach the population limit\n",
    "                # Same sort of deal\n",
    "                for clus in small_clusters:\n",
    "#                     clus_mat = matrix[small_clusters[clus].members]\n",
    "#                     clus_pops = populations[small_clusters[clus].members]\n",
    "                    # Now, for each big cluster, find the closest tract\n",
    "                    for big_clus in big_clusters:\n",
    "                        cluster_stack = [small_clusters[clus]]\n",
    "                        while len(cluster_stack) > 0:\n",
    "                            cluster = cluster_stack.pop(0)\n",
    "                            if cluster.left is None and cluster.right is None:\n",
    "                                dist = np.linalg.norm(cluster.vector - big_clusters[big_clus].vector)**2\n",
    "                                dist *= sum([(big_clusters[bg].population - pop_limit)**2 for bg in big_clusters if bg != big_clus]) + (big_clusters[big_clus].population + cluster.population - pop_limit)**2\n",
    "                                if dist < best_dist:\n",
    "                                    best_dist = dist\n",
    "                                    best_cluster = (big_clus, clus, cluster)    \n",
    "                            else:\n",
    "                                if cluster.left is not None:\n",
    "                                    cluster_stack.append(cluster.left)\n",
    "                                if cluster.right is not None:\n",
    "                                    cluster_stack.append(cluster.right)\n",
    "            # Remove the branch from the small cluster\n",
    "            big_clus, clus, cluster = best_cluster\n",
    "            if cluster.up is None:\n",
    "                small_clusters.pop(clus)\n",
    "            else:\n",
    "                cluster.remove()\n",
    "                    \n",
    "            # Now we have a best cluster\n",
    "            big_clusters[big_clus] = big_clusters[big_clus].merge(cluster)\n",
    "        return big_clusters\n",
    "\n"
   ]
  },
  {
   "cell_type": "code",
   "execution_count": 11,
   "metadata": {
    "ExecuteTime": {
     "end_time": "2021-11-16T19:16:23.627686Z",
     "start_time": "2021-11-16T17:07:16.128645Z"
    }
   },
   "outputs": [
    {
     "name": "stdout",
     "output_type": "stream",
     "text": [
      "7747.471045255661\n"
     ]
    }
   ],
   "source": [
    "wag_full = WeightedAgglomerativeClustering(1)\n",
    "t=time.time()\n",
    "full_az_clusts = wag_full.fit(group_nml_nz, group_pops_nz)\n",
    "print(time.time()-t)\n",
    "# -8149.7969760894775\n"
   ]
  },
  {
   "cell_type": "markdown",
   "metadata": {},
   "source": [
    "## Save output"
   ]
  },
  {
   "cell_type": "code",
   "execution_count": 12,
   "metadata": {
    "ExecuteTime": {
     "end_time": "2021-11-16T21:48:24.496911Z",
     "start_time": "2021-11-16T21:48:24.376874Z"
    }
   },
   "outputs": [],
   "source": [
    "np.savez('arizonav2', group_nml_nz=group_nml_nz, group_pops_nz=group_pops_nz, children=wag_full.children_, group_codes_nz=group_codes_nz)"
   ]
  },
  {
   "cell_type": "code",
   "execution_count": 13,
   "metadata": {
    "ExecuteTime": {
     "end_time": "2021-11-16T21:48:26.230866Z",
     "start_time": "2021-11-16T21:48:26.217864Z"
    }
   },
   "outputs": [],
   "source": [
    "childs = wag_full.children_"
   ]
  },
  {
   "cell_type": "markdown",
   "metadata": {},
   "source": [
    "## Load the clustering"
   ]
  },
  {
   "cell_type": "code",
   "execution_count": 6,
   "metadata": {
    "ExecuteTime": {
     "end_time": "2021-11-16T16:56:27.846726Z",
     "start_time": "2021-11-16T16:56:27.723726Z"
    }
   },
   "outputs": [],
   "source": [
    "data = np.load('arizonav2.npz')\n",
    "\n",
    "group_nml_nz=data['group_nml_nz']\n",
    "group_pops_nz=data['group_pops_nz']\n",
    "childs = data['children']\n",
    "group_codes_nz=data['group_codes_nz']"
   ]
  },
  {
   "cell_type": "code",
   "execution_count": 14,
   "metadata": {
    "ExecuteTime": {
     "end_time": "2021-11-16T21:48:31.743492Z",
     "start_time": "2021-11-16T21:48:31.734491Z"
    }
   },
   "outputs": [
    {
     "data": {
      "text/plain": [
       "(2392, 2400, 4755, 2575, 0.002322749406973622)"
      ]
     },
     "execution_count": 14,
     "metadata": {},
     "output_type": "execute_result"
    }
   ],
   "source": [
    "\n",
    "childs[0]\n",
    "# idx1 idx2 newidx population distance"
   ]
  },
  {
   "cell_type": "code",
   "execution_count": 15,
   "metadata": {
    "ExecuteTime": {
     "end_time": "2021-11-16T21:48:35.128785Z",
     "start_time": "2021-11-16T21:48:34.954812Z"
    }
   },
   "outputs": [
    {
     "data": {
      "image/png": "[encoded data removed]",
      "text/plain": [
       "<Figure size 432x288 with 1 Axes>"
      ]
     },
     "metadata": {
      "needs_background": "light"
     },
     "output_type": "display_data"
    }
   ],
   "source": [
    "plt.plot(range(1,1+len(childs)), [c[-1] for c in childs], '.')\n",
    "# plt.yscale('log')\n",
    "# plt.xscale('log')\n",
    "plt.title('Merge distance')\n",
    "plt.show()"
   ]
  },
  {
   "cell_type": "code",
   "execution_count": 16,
   "metadata": {
    "ExecuteTime": {
     "end_time": "2021-11-16T21:48:42.689259Z",
     "start_time": "2021-11-16T21:48:41.929226Z"
    }
   },
   "outputs": [
    {
     "data": {
      "image/png": "[encoded data removed]",
      "text/plain": [
       "<Figure size 432x288 with 1 Axes>"
      ]
     },
     "metadata": {
      "needs_background": "light"
     },
     "output_type": "display_data"
    }
   ],
   "source": [
    "plt.plot(range(1,1+len(childs)), [c[-1] for c in childs], '.')\n",
    "plt.yscale('log')\n",
    "plt.xscale('log')\n",
    "plt.title('Merge distance')\n",
    "plt.show()"
   ]
  },
  {
   "cell_type": "code",
   "execution_count": 17,
   "metadata": {
    "ExecuteTime": {
     "end_time": "2021-11-16T21:48:48.130330Z",
     "start_time": "2021-11-16T21:48:47.975720Z"
    }
   },
   "outputs": [
    {
     "data": {
      "image/png": "[encoded data removed]",
      "text/plain": [
       "<Figure size 432x288 with 1 Axes>"
      ]
     },
     "metadata": {
      "needs_background": "light"
     },
     "output_type": "display_data"
    }
   ],
   "source": [
    "plt.plot(range(1,1+len(childs)), np.maximum.accumulate([c[-2] for c in childs]), '.')\n",
    "plt.plot([1,1+len(childs)],[group_pops_nz.sum()/9]*2)\n",
    "# plt.yscale('log')\n",
    "# plt.xscale('log')\n",
    "plt.title('Population')\n",
    "plt.show()"
   ]
  },
  {
   "cell_type": "code",
   "execution_count": 18,
   "metadata": {
    "ExecuteTime": {
     "end_time": "2021-11-16T21:48:51.460059Z",
     "start_time": "2021-11-16T21:48:51.444064Z"
    }
   },
   "outputs": [
    {
     "data": {
      "text/plain": [
       "17"
      ]
     },
     "execution_count": 18,
     "metadata": {},
     "output_type": "execute_result"
    }
   ],
   "source": [
    "len(childs) - np.argmax( np.maximum.accumulate([c[-2] for c in childs]) > (group_pops_nz.sum()/9))"
   ]
  },
  {
   "cell_type": "code",
   "execution_count": 19,
   "metadata": {
    "ExecuteTime": {
     "end_time": "2021-11-16T21:51:00.551509Z",
     "start_time": "2021-11-16T21:51:00.432509Z"
    }
   },
   "outputs": [],
   "source": [
    "def elbow_plot(data):\n",
    "    hyp = ( (data[0][0] - data[-1][0])**2 + (data[0][1] - data[-1][0])**2)**0.5\n",
    "    base = data[-1][0] - data[0][0]\n",
    "    height = data[-1][1] - data[0][1]\n",
    "    dists = [ (1-y * hyp**2 / ( (x - data[0][0])*base * height)) * (x - data[0][0])*height / hyp if x > data[0][0] else 0 for x,y in data]\n",
    "    return np.argmax(dists), dists\n",
    "\n",
    "def elbow(data):\n",
    "    hyp = ( (data[0][0] - data[-1][0])**2 + (data[0][1] - data[-1][0])**2)**0.5\n",
    "    base = data[-1][0] - data[0][0]\n",
    "    height = data[-1][1] - data[0][1]\n",
    "    dists = [ (1-y * hyp**2 / ( (x - data[0][0])*base * height)) * (x - data[0][0])*height / hyp if x > data[0][0] else 0 for x,y in data]\n",
    "    return np.argmax(dists)\n",
    "\n",
    "def elbow2(data):\n",
    "    elbowdata = np.array(data)\n",
    "    if elbowdata.shape[1] != 2:\n",
    "        elbowdata = elbowdata.T\n",
    "    elbowdata -= elbowdata[0]\n",
    "    rotation = np.linalg.inv(np.vstack([elbowdata[-1], [-elbowdata[-1,1], elbowdata[-1,0]]]).T)\n",
    "    idx = np.argmin((elbowdata @rotation.T)[:,1])\n",
    "    return idx"
   ]
  },
  {
   "cell_type": "code",
   "execution_count": 20,
   "metadata": {
    "ExecuteTime": {
     "end_time": "2021-11-16T21:51:02.886510Z",
     "start_time": "2021-11-16T21:51:02.857505Z"
    }
   },
   "outputs": [
    {
     "name": "stdout",
     "output_type": "stream",
     "text": [
      "4658\n"
     ]
    }
   ],
   "source": [
    "elb = elbow(list(enumerate([c[-1] for c in childs])))\n",
    "print(elb)"
   ]
  },
  {
   "cell_type": "code",
   "execution_count": 21,
   "metadata": {
    "ExecuteTime": {
     "end_time": "2021-11-16T21:51:08.943223Z",
     "start_time": "2021-11-16T21:51:08.932237Z"
    }
   },
   "outputs": [
    {
     "name": "stdout",
     "output_type": "stream",
     "text": [
      "96\n"
     ]
    }
   ],
   "source": [
    "dists = np.array([c[-1] for c in childs])\n",
    "print(len(dists) - elb)"
   ]
  },
  {
   "cell_type": "code",
   "execution_count": 22,
   "metadata": {
    "ExecuteTime": {
     "end_time": "2021-11-16T21:51:12.303707Z",
     "start_time": "2021-11-16T21:51:12.277715Z"
    }
   },
   "outputs": [],
   "source": [
    "def process_children(array, n):\n",
    "    clusters = {i: group_pops_nz[i] for i in range(len(group_pops_nz))}\n",
    "    for c in array[:n+1]:\n",
    "        clusters.pop(c[0])\n",
    "        clusters.pop(c[1])\n",
    "        clusters[c[2]] = c[3]\n",
    "    return clusters"
   ]
  },
  {
   "cell_type": "code",
   "execution_count": 23,
   "metadata": {
    "ExecuteTime": {
     "end_time": "2021-11-16T21:51:14.286599Z",
     "start_time": "2021-11-16T21:51:14.273600Z"
    }
   },
   "outputs": [],
   "source": [
    "cls = process_children(childs, elb)\n",
    "cls_pops = np.array(list(cls.values()))"
   ]
  },
  {
   "cell_type": "code",
   "execution_count": 24,
   "metadata": {
    "ExecuteTime": {
     "end_time": "2021-11-16T21:51:18.767538Z",
     "start_time": "2021-11-16T21:51:18.754532Z"
    }
   },
   "outputs": [
    {
     "data": {
      "text/plain": [
       "4755"
      ]
     },
     "execution_count": 24,
     "metadata": {},
     "output_type": "execute_result"
    }
   ],
   "source": [
    "len(group_pops_nz)"
   ]
  },
  {
   "cell_type": "code",
   "execution_count": 25,
   "metadata": {
    "ExecuteTime": {
     "end_time": "2021-11-16T21:51:20.953223Z",
     "start_time": "2021-11-16T21:51:20.776213Z"
    }
   },
   "outputs": [
    {
     "data": {
      "image/png": "[encoded data removed]",
      "text/plain": [
       "<Figure size 432x288 with 1 Axes>"
      ]
     },
     "metadata": {
      "needs_background": "light"
     },
     "output_type": "display_data"
    }
   ],
   "source": [
    "plt.hist(list(cls.values()))\n",
    "plt.show()"
   ]
  },
  {
   "cell_type": "code",
   "execution_count": 26,
   "metadata": {
    "ExecuteTime": {
     "end_time": "2021-11-16T21:51:23.585329Z",
     "start_time": "2021-11-16T21:51:23.573329Z"
    }
   },
   "outputs": [
    {
     "data": {
      "text/plain": [
       "96"
      ]
     },
     "execution_count": 26,
     "metadata": {},
     "output_type": "execute_result"
    }
   ],
   "source": [
    "len(cls)"
   ]
  },
  {
   "cell_type": "code",
   "execution_count": 27,
   "metadata": {
    "ExecuteTime": {
     "end_time": "2021-11-16T21:51:26.414209Z",
     "start_time": "2021-11-16T21:51:26.149196Z"
    }
   },
   "outputs": [
    {
     "data": {
      "image/png": "[encoded data removed]",
      "text/plain": [
       "<Figure size 432x288 with 1 Axes>"
      ]
     },
     "metadata": {
      "needs_background": "light"
     },
     "output_type": "display_data"
    },
    {
     "data": {
      "image/png": "[encoded data removed]",
      "text/plain": [
       "<Figure size 432x288 with 1 Axes>"
      ]
     },
     "metadata": {
      "needs_background": "light"
     },
     "output_type": "display_data"
    }
   ],
   "source": [
    "plt.plot(sorted(cls_pops))\n",
    "plt.show()\n",
    "plt.plot(np.cumsum(sorted(cls_pops)[::-1]) / cls_pops.sum())\n",
    "plt.show()"
   ]
  },
  {
   "cell_type": "code",
   "execution_count": 28,
   "metadata": {
    "ExecuteTime": {
     "end_time": "2021-11-16T21:51:29.354809Z",
     "start_time": "2021-11-16T21:51:29.334819Z"
    }
   },
   "outputs": [
    {
     "data": {
      "text/plain": [
       "array([0.04460182, 0.08501794, 0.11821349, 0.15087851, 0.17991703,\n",
       "       0.20625821, 0.22884633, 0.25025386, 0.26991533, 0.28877836,\n",
       "       0.30611178, 0.32322287, 0.34018196, 0.35702346, 0.37337961,\n",
       "       0.38963549, 0.40570107, 0.42136072, 0.43614726, 0.45088836,\n",
       "       0.46553409, 0.4799533 , 0.49430553, 0.50813829, 0.52163839,\n",
       "       0.53509361, 0.54743283, 0.55929789, 0.57095055, 0.5825228 ,\n",
       "       0.59343841, 0.6043069 , 0.61482301, 0.62488286, 0.63489684,\n",
       "       0.64484566, 0.65440449, 0.66377301, 0.67306546, 0.68231037,\n",
       "       0.69130191, 0.70010258, 0.70888941, 0.71766099, 0.72632868,\n",
       "       0.73497106, 0.74350423, 0.7519921 , 0.76028784, 0.76841942])"
      ]
     },
     "execution_count": 28,
     "metadata": {},
     "output_type": "execute_result"
    }
   ],
   "source": [
    "(np.cumsum(sorted(cls_pops)[::-1]) / cls_pops.sum())[:50]"
   ]
  },
  {
   "cell_type": "code",
   "execution_count": 29,
   "metadata": {
    "ExecuteTime": {
     "end_time": "2021-11-16T21:51:31.266776Z",
     "start_time": "2021-11-16T21:51:31.253775Z"
    }
   },
   "outputs": [],
   "source": [
    "def define_clusters(array, n):\n",
    "    clusters = {i: {i} for i in range(len(group_pops_nz))}\n",
    "    for c in array[:n+1]:\n",
    "        clusters[c[2]] = {*clusters.pop(c[0]), *clusters.pop(c[1])}\n",
    "    return clusters"
   ]
  },
  {
   "cell_type": "code",
   "execution_count": 30,
   "metadata": {
    "ExecuteTime": {
     "end_time": "2021-11-16T21:51:33.351790Z",
     "start_time": "2021-11-16T21:51:33.338780Z"
    }
   },
   "outputs": [],
   "source": [
    "cls_members = define_clusters(childs, elb)"
   ]
  },
  {
   "cell_type": "code",
   "execution_count": 31,
   "metadata": {
    "ExecuteTime": {
     "end_time": "2021-11-16T21:51:37.517788Z",
     "start_time": "2021-11-16T21:51:37.505783Z"
    }
   },
   "outputs": [],
   "source": [
    "import json\n",
    "np.savez('arizona_coi', codes=group_codes_nz, pops=group_pops_nz, members= cls_members)"
   ]
  },
  {
   "cell_type": "code",
   "execution_count": 32,
   "metadata": {
    "ExecuteTime": {
     "end_time": "2021-11-16T21:51:39.668313Z",
     "start_time": "2021-11-16T21:51:39.636312Z"
    }
   },
   "outputs": [],
   "source": [
    "big_clusts = sorted(cls_members.values(), key=lambda x: sum(-group_pops_nz[i] for i in x))\n",
    "def interpret_cluster(clus, n=10):\n",
    "    vectors = group_std_nz[list(clus)]\n",
    "    titles = row_titles()\n",
    "    titles = [t for i,t in enumerate(titles) if np.mean(vectors[:,i]) > 0]\n",
    "    rel_cols = vectors[:,np.mean(vectors, 0) > 0]\n",
    "    varis = np.std(rel_cols, axis=0)\n",
    "    consts = np.argsort(varis)\n",
    "    \n",
    "    for i in consts[:n]:\n",
    "        print(titles[i], ': ', varis[i])\n",
    "    "
   ]
  },
  {
   "cell_type": "code",
   "execution_count": 36,
   "metadata": {
    "ExecuteTime": {
     "end_time": "2021-11-16T21:54:40.997625Z",
     "start_time": "2021-11-16T21:54:40.951626Z"
    }
   },
   "outputs": [],
   "source": [
    "def describe_cluster(clus, positive=False):\n",
    "    rtitles = row_titles()\n",
    "    cl_mn = np.mean(group_nml_nz[clus].T * group_pops_nz[clus], axis=1) / group_pops_nz[clus].sum()\n",
    "    cl_std = np.std(group_nml_nz[clus].T * group_pops_nz[clus], axis=1) / group_pops_nz[clus].sum()\n",
    "    overall_std = np.std(group_nml_nz.T * group_pops_nz, axis=1) / group_pops_nz.sum()\n",
    "    rat = cl_std / overall_std\n",
    "    rat[np.argwhere(np.isnan(rat))] = np.inf\n",
    "    if positive:\n",
    "        rat[cl_mn == 0] = np.inf\n",
    "    ttypes = title_types()\n",
    "    overall_mean = group_nml_nz.mean(0)\n",
    "    for i,t in enumerate(rtitles):\n",
    "        if ttypes[t] == 'BOOL':\n",
    "            #pass\n",
    "            rat[i] = 1-cl_mn[i]\n",
    "    print('Population: ', group_pops_nz[clus].sum())\n",
    "    return sorted(zip(rtitles, rat, cl_mn, overall_mean), key=lambda x: x[1])\n",
    "\n",
    "\n",
    "def describe_cluster2(clus, positive=False):\n",
    "    rtitles = row_titles()\n",
    "    cl_mn = (group_nml_nz[clus].T @ group_pops_nz[clus]) / group_pops_nz[clus].sum()\n",
    "    overall_mn = (group_nml_nz.T @ group_pops_nz) / group_pops_nz.sum()\n",
    "    rat = abs(cl_mn - overall_mn)\n",
    "    ttypes = title_types()\n",
    "    print('Population: ', group_pops_nz[clus].sum())\n",
    "    return sorted(zip(rtitles, rat, cl_mn, overall_mn), key=lambda x: -x[1])\n",
    "\n"
   ]
  },
  {
   "cell_type": "code",
   "execution_count": 38,
   "metadata": {
    "ExecuteTime": {
     "end_time": "2021-11-16T21:54:58.293898Z",
     "start_time": "2021-11-16T21:54:58.213902Z"
    },
    "scrolled": true
   },
   "outputs": [
    {
     "name": "stdout",
     "output_type": "stream",
     "text": [
      "Population:  318970\n"
     ]
    },
    {
     "data": {
      "text/plain": [
       "[('PLACE 20540',\n",
       "  1.5191345612967426,\n",
       "  1.4479336287369752e-06,\n",
       "  0.002945802398418298),\n",
       " ('PLACE 60120',\n",
       "  1.5674961731557377,\n",
       "  6.04354905907607e-07,\n",
       "  0.0007217795406022731),\n",
       " ('% PI/AK (18+)',\n",
       "  1.8467185561148718,\n",
       "  7.557422909462941e-05,\n",
       "  0.047864608336049844),\n",
       " ('% INDIAN', 1.9135695108765363, 7.952303303567595e-05, 0.0491843444785444),\n",
       " ('% OTHER (HISP&18+)',\n",
       "  2.1856336161185133,\n",
       "  6.906890961789907e-05,\n",
       "  0.05311950260661541),\n",
       " ('% ASIAN (HISP)',\n",
       "  2.2829900716044538,\n",
       "  7.450014724408693e-05,\n",
       "  0.05588992564689861),\n",
       " ('SDUNI 08850',\n",
       "  2.2979392829541134,\n",
       "  3.651310889858459e-06,\n",
       "  0.0071336892538335795),\n",
       " ('SDUNI 01760',\n",
       "  2.4658168223175543,\n",
       "  2.0145163530253566e-06,\n",
       "  0.0053123686831248245),\n",
       " ('CBSAPCI N', 2.8568948321577166, 6.605095492481887e-05, 0.3843600515206502),\n",
       " ('LATITUDE', 4.434292016207274, 0.0006296115824051297, 0.3626220653321356),\n",
       " ('SDUNI 00680',\n",
       "  4.609518887779668,\n",
       "  1.406384228955827e-05,\n",
       "  0.02254970106096696),\n",
       " ('PLACE 99999', 5.342684716321039, 1.94526735339011e-05, 0.07518712555516488),\n",
       " ('CBSAPCI 9', 5.342684716321039, 1.94526735339011e-05, 0.07518712555516488),\n",
       " ('% HISPANIC&18+',\n",
       "  6.945855583742037,\n",
       "  0.0005611675030194064,\n",
       "  0.19152517821003862),\n",
       " ('% OTHER', 7.130162530599028, 0.0005689781342727778, 0.19237389043416983),\n",
       " ('PLACE 11230',\n",
       "  7.846828925831881,\n",
       "  1.1847874301230379e-05,\n",
       "  0.008764182535544365),\n",
       " ('% OTHER GROUP2',\n",
       "  7.895605949257662,\n",
       "  1.378187626712002e-06,\n",
       "  0.0008156397366034738),\n",
       " ('% PI/AK (HISP&18+)',\n",
       "  8.932706545854156,\n",
       "  0.00028843364274830634,\n",
       "  0.07035705344920538),\n",
       " ('% OTHER GROUP1',\n",
       "  9.174995045365335,\n",
       "  4.651383677145678e-05,\n",
       "  0.014202569022213288),\n",
       " ('% INDIAN (HISP)',\n",
       "  9.39712817803775,\n",
       "  0.0003841481743718465,\n",
       "  0.09041651872626329),\n",
       " ('% TWO (HISP)',\n",
       "  9.439882595851829,\n",
       "  9.011569318702193e-05,\n",
       "  0.024278680317906774),\n",
       " ('% ASIAN', 10.500049040286711, 0.00025239952868452893, 0.05613548545963562),\n",
       " ('% WHITE (18+)',\n",
       "  10.667850952926635,\n",
       "  1.6885296065734664e-05,\n",
       "  0.004948378914600692),\n",
       " ('SDELM 99999', 10.686095859630965, 0.004016064257028112, 0.6715007054473299),\n",
       " ('SDSEC 99999', 10.754179611868976, 0.004016064257028112, 0.6911248837950988),\n",
       " ('CBSAPCI Y', 10.763744698807814, 0.003930560628569393, 0.5404528229241857),\n",
       " ('% OTHER (18+)',\n",
       "  10.769190017332134,\n",
       "  0.0002693587577366158,\n",
       "  0.05970574523292488),\n",
       " ('% JUVENILE',\n",
       "  10.796406970992589,\n",
       "  0.00010650685598295048,\n",
       "  0.026836912912282095),\n",
       " ('% PI/AK (HISP)',\n",
       "  11.332735362871524,\n",
       "  0.00031860308905719867,\n",
       "  0.07399658045024009),\n",
       " ('% TWO (HISP&18+)',\n",
       "  11.433828165052185,\n",
       "  0.0003210592448645737,\n",
       "  0.07432202551464209)]"
      ]
     },
     "execution_count": 38,
     "metadata": {},
     "output_type": "execute_result"
    }
   ],
   "source": [
    "describe_cluster(list(big_clusts[0]), positive=True)[:30]"
   ]
  },
  {
   "cell_type": "code",
   "execution_count": 34,
   "metadata": {
    "ExecuteTime": {
     "end_time": "2021-11-16T21:51:45.868721Z",
     "start_time": "2021-11-16T21:51:45.839725Z"
    },
    "scrolled": true
   },
   "outputs": [
    {
     "name": "stdout",
     "output_type": "stream",
     "text": [
      "Population:  318970\n"
     ]
    },
    {
     "data": {
      "text/plain": [
       "[('SDUNI 08800', 0.9212863226881637, 0.9885882684891996, 0.06730194580103592),\n",
       " ('PLACE 77000', 0.9028333679956297, 0.9787095965137788, 0.07587622851814906),\n",
       " ('COUSUB 93570', 0.8734510596515249, 1.0, 0.12654894034847505),\n",
       " ('COUNTY 19.0', 0.8540959647357995, 1.0, 0.14590403526420045),\n",
       " ('CSA 536', 0.8474303719694128, 1.0, 0.15256962803058713),\n",
       " ('CSA 429', 0.6850454631768264, 0.0, 0.6850454631768264),\n",
       " ('COUNTY 13.0', 0.6181314079196231, 0.0, 0.6181314079196231),\n",
       " ('COUSUB 92601', 0.4659056237416979, 0.0, 0.4659056237416979),\n",
       " ('CBSAPCI Y', 0.43598906032431817, 0.9787095965137788, 0.5427205361894606),\n",
       " ('CBSAPCI N', 0.37640924654353153, 0.0164466877762799, 0.3928559343198114),\n",
       " ('SDELM 99999', 0.3349264252460532, 1.0, 0.6650735747539468),\n",
       " ('SDUNI 99999', 0.3349264252460532, 0.0, 0.3349264252460532),\n",
       " ('SDSEC 99999', 0.32002731733837175, 1.0, 0.6799726826616282),\n",
       " ('PLACE 55000', 0.22486730759496396, 0.0, 0.22486730759496396),\n",
       " ('LATITUDE', 0.20283607183356187, 0.15677328401887733, 0.3596093558524392),\n",
       " ('LONGITUDE', 0.17543828611311985, 0.6822610070952647, 0.5068227209821449),\n",
       " ('CSA 999', 0.16238490879258652, 0.0, 0.16238490879258652),\n",
       " ('SDSEC 06330', 0.10105667312964466, 0.0, 0.10105667312964466),\n",
       " ('COUSUB 90561', 0.0714159067563709, 0.0, 0.0714159067563709),\n",
       " ('PLACE 46000', 0.07051078221050627, 0.0, 0.07051078221050627),\n",
       " ('SDUNI 04970', 0.06925901719666722, 0.0, 0.06925901719666722),\n",
       " ('% HISPANIC&18+',\n",
       "  0.0630304591822557,\n",
       "  0.13973070825183223,\n",
       "  0.20276116743408792),\n",
       " ('% OTHER', 0.06160870394455342, 0.14167555543392166, 0.20328425937847508),\n",
       " ('PLACE 99999',\n",
       "  0.05957981378078659,\n",
       "  0.004843715709941374,\n",
       "  0.06442352949072797),\n",
       " ('CBSAPCI 9', 0.05957981378078659, 0.004843715709941374, 0.06442352949072797),\n",
       " ('COUNTY 21.0', 0.05946499071104224, 0.0, 0.05946499071104224),\n",
       " ('% INDIAN (HISP&18+)',\n",
       "  0.057746547017712535,\n",
       "  0.6243910085587986,\n",
       "  0.566644461541086),\n",
       " ('% BLACK (18+)',\n",
       "  0.05683226581480638,\n",
       "  0.8317710129479261,\n",
       "  0.7749387471331197),\n",
       " ('SDSEC 03450', 0.04986770611264599, 0.0, 0.04986770611264599),\n",
       " ('MEMI 1', 0.04730922259407888, 1.0, 0.9526907774059211)]"
      ]
     },
     "execution_count": 34,
     "metadata": {},
     "output_type": "execute_result"
    }
   ],
   "source": [
    "describe_cluster2(list(big_clusts[0]), positive=False)[:30]"
   ]
  },
  {
   "cell_type": "code",
   "execution_count": 58,
   "metadata": {},
   "outputs": [],
   "source": [
    "with codecs.open('aznames/NAMES_ST04_AZ_SDUNI.txt', 'r', 'latin-1') as file:\n",
    "    sduni = pd.read_csv(file,sep='|', keep_default_na=False)\n",
    "with codecs.open('aznames/NAMES_ST04_AZ_INCPLACE.txt', 'r', 'latin-1') as file:\n",
    "    place = pd.read_csv(file,sep='|', keep_default_na=False)    "
   ]
  },
  {
   "cell_type": "code",
   "execution_count": 59,
   "metadata": {},
   "outputs": [
    {
     "data": {
      "text/html": [
       "<div>\n",
       "<style scoped>\n",
       "    .dataframe tbody tr th:only-of-type {\n",
       "        vertical-align: middle;\n",
       "    }\n",
       "\n",
       "    .dataframe tbody tr th {\n",
       "        vertical-align: top;\n",
       "    }\n",
       "\n",
       "    .dataframe thead th {\n",
       "        text-align: right;\n",
       "    }\n",
       "</style>\n",
       "<table border=\"1\" class=\"dataframe\">\n",
       "  <thead>\n",
       "    <tr style=\"text-align: right;\">\n",
       "      <th></th>\n",
       "      <th>STATEFP</th>\n",
       "      <th>DISTRICT</th>\n",
       "      <th>NAME</th>\n",
       "      <th>NAMELSAD</th>\n",
       "    </tr>\n",
       "  </thead>\n",
       "  <tbody>\n",
       "    <tr>\n",
       "      <th>88</th>\n",
       "      <td>4</td>\n",
       "      <td>8800</td>\n",
       "      <td>Tucson Unified District</td>\n",
       "      <td>Tucson Unified District</td>\n",
       "    </tr>\n",
       "  </tbody>\n",
       "</table>\n",
       "</div>"
      ],
      "text/plain": [
       "    STATEFP  DISTRICT                     NAME                 NAMELSAD\n",
       "88        4      8800  Tucson Unified District  Tucson Unified District"
      ]
     },
     "execution_count": 59,
     "metadata": {},
     "output_type": "execute_result"
    }
   ],
   "source": [
    "sduni[sduni['DISTRICT']==8800]"
   ]
  },
  {
   "cell_type": "code",
   "execution_count": 61,
   "metadata": {},
   "outputs": [
    {
     "data": {
      "text/plain": [
       "481310"
      ]
     },
     "execution_count": 61,
     "metadata": {},
     "output_type": "execute_result"
    }
   ],
   "source": [
    "block_data[block_data['SDUNI']==8800]['POP100'].sum()"
   ]
  },
  {
   "cell_type": "code",
   "execution_count": 180,
   "metadata": {},
   "outputs": [
    {
     "data": {
      "text/plain": [
       "array([[0.        , 0.        , 0.        , ..., 0.        , 0.        ,\n",
       "        0.        ],\n",
       "       [0.        , 0.        , 0.        , ..., 0.        , 0.        ,\n",
       "        0.        ],\n",
       "       [0.        , 0.        , 0.        , ..., 0.        , 0.        ,\n",
       "        0.00164485],\n",
       "       ...,\n",
       "       [0.        , 0.        , 0.        , ..., 0.        , 0.        ,\n",
       "        0.        ],\n",
       "       [0.        , 0.        , 0.        , ..., 0.        , 0.        ,\n",
       "        0.01030781],\n",
       "       [0.        , 0.        , 0.        , ..., 0.        , 0.        ,\n",
       "        0.0057433 ]])"
      ]
     },
     "execution_count": 180,
     "metadata": {},
     "output_type": "execute_result"
    }
   ],
   "source": [
    "rtitles = row_titles()\n",
    "bc = group_nml_nz[list(big_clusts[0])]\n"
   ]
  },
  {
   "cell_type": "code",
   "execution_count": 183,
   "metadata": {},
   "outputs": [
    {
     "data": {
      "text/plain": [
       "936"
      ]
     },
     "execution_count": 183,
     "metadata": {},
     "output_type": "execute_result"
    }
   ],
   "source": [
    "rtitles.index('SDUNI 7520')"
   ]
  },
  {
   "cell_type": "code",
   "execution_count": 184,
   "metadata": {},
   "outputs": [
    {
     "data": {
      "text/plain": [
       "array([0.94710327, 0.95049791, 0.94710327, 0.94710327, 0.94710327,\n",
       "       0.94774063, 0.94710327, 0.94776099, 0.94909802, 0.94896888,\n",
       "       0.94710327, 0.94782958, 0.94710327, 0.94710327, 0.94710327,\n",
       "       0.94765105, 0.94710327, 0.94710327, 0.94710327, 0.94710327,\n",
       "       0.94710327, 0.94769117, 0.94710327, 0.94775826, 0.9488232 ,\n",
       "       0.93830276, 0.94781378, 0.9478246 , 0.94828347, 0.95056744,\n",
       "       0.94710327, 0.94758872, 0.9480648 , 0.94764947, 0.948609  ,\n",
       "       0.94746054, 0.94768042, 0.95236496, 0.94754772, 0.94710327,\n",
       "       0.94710327, 0.94754834, 0.94843348, 0.9482842 , 0.94776328,\n",
       "       0.94710327, 0.94798022, 0.94766336, 0.94766469, 0.94710327,\n",
       "       0.94710327, 0.94769337, 0.94864161, 0.94877169, 0.94763386,\n",
       "       0.9538804 , 0.94710327, 0.9492509 , 0.94710327, 0.94842789,\n",
       "       0.94805802, 0.94889026, 0.96862835, 0.94871674, 0.94808169,\n",
       "       0.95053481, 0.95008784, 0.94784262, 0.9475444 , 0.94710327,\n",
       "       0.9499377 , 0.94775826, 0.9596017 , 0.6063771 , 0.95408928,\n",
       "       0.94710327, 0.94770385, 0.94759785, 0.94813498, 0.94811514,\n",
       "       0.95595471, 0.94710327, 0.94801879, 0.94710327, 0.94783322,\n",
       "       0.95131887, 0.94900509, 0.94710327, 0.94751063, 0.94710327,\n",
       "       0.94710327, 0.94710327, 0.94710327, 0.94710327, 0.94762082,\n",
       "       0.95130515, 0.94955532, 0.94743782, 0.94710327, 0.94915996,\n",
       "       0.94710327, 0.94755278, 0.94940114, 0.94761083, 0.94710327,\n",
       "       0.94710327, 0.94710327, 0.94710327, 0.94815972, 0.94710327,\n",
       "       0.94710327, 0.94710327, 0.94897873, 0.94710327, 0.94831286,\n",
       "       0.94710327, 0.94764232, 0.94710327, 0.94805038, 0.94852109,\n",
       "       0.9478886 , 0.95106053, 0.94899464, 0.95274079, 0.94710327,\n",
       "       0.95046976, 0.94710327, 0.94710327, 0.94837883, 0.9475244 ,\n",
       "       0.95423776, 0.94896472, 0.94749464, 0.94757706, 0.94811298,\n",
       "       0.94945341, 0.94741513, 0.94800143, 0.95118562, 0.9532533 ,\n",
       "       0.94743559, 0.94979009, 0.95690766, 0.9477305 , 0.94751632,\n",
       "       0.94814922, 0.94710327, 0.95148801, 0.95382628, 0.95136129,\n",
       "       0.94710327, 0.94710327, 0.94710327, 0.94710327, 0.95041482,\n",
       "       0.97078086, 0.94815561, 0.94710327, 0.94973412, 0.95140829,\n",
       "       0.94770461, 0.95074999, 0.94710327, 0.94771195, 0.94710327,\n",
       "       0.94710327, 0.94710327, 0.94753594, 0.94710327, 0.94710327,\n",
       "       0.94710327])"
      ]
     },
     "execution_count": 184,
     "metadata": {},
     "output_type": "execute_result"
    }
   ],
   "source": [
    "bc[:,rtitles.index('SDUNI 7520')]"
   ]
  },
  {
   "cell_type": "code",
   "execution_count": 234,
   "metadata": {},
   "outputs": [
    {
     "data": {
      "text/html": [
       "<div>\n",
       "<style scoped>\n",
       "    .dataframe tbody tr th:only-of-type {\n",
       "        vertical-align: middle;\n",
       "    }\n",
       "\n",
       "    .dataframe tbody tr th {\n",
       "        vertical-align: top;\n",
       "    }\n",
       "\n",
       "    .dataframe thead th {\n",
       "        text-align: right;\n",
       "    }\n",
       "</style>\n",
       "<table border=\"1\" class=\"dataframe\">\n",
       "  <thead>\n",
       "    <tr style=\"text-align: right;\">\n",
       "      <th></th>\n",
       "      <th>FILEID</th>\n",
       "      <th>STUSAB</th>\n",
       "      <th>SUMLEV</th>\n",
       "      <th>GEOVAR</th>\n",
       "      <th>GEOCOMP</th>\n",
       "      <th>CHARITER</th>\n",
       "      <th>CIFSN</th>\n",
       "      <th>LOGRECNO</th>\n",
       "      <th>GEOID</th>\n",
       "      <th>GEOCODE</th>\n",
       "      <th>...</th>\n",
       "      <th>P0050001</th>\n",
       "      <th>P0050002</th>\n",
       "      <th>P0050003</th>\n",
       "      <th>P0050004</th>\n",
       "      <th>P0050005</th>\n",
       "      <th>P0050006</th>\n",
       "      <th>P0050007</th>\n",
       "      <th>P0050008</th>\n",
       "      <th>P0050009</th>\n",
       "      <th>P0050010</th>\n",
       "    </tr>\n",
       "  </thead>\n",
       "  <tbody>\n",
       "    <tr>\n",
       "      <th>3912</th>\n",
       "      <td>PLST</td>\n",
       "      <td>AZ</td>\n",
       "      <td>150</td>\n",
       "      <td>0</td>\n",
       "      <td>0</td>\n",
       "      <td>0</td>\n",
       "      <td>0</td>\n",
       "      <td>3913</td>\n",
       "      <td>1500000US040133193002</td>\n",
       "      <td>040133193002</td>\n",
       "      <td>...</td>\n",
       "      <td>10</td>\n",
       "      <td>0</td>\n",
       "      <td>0</td>\n",
       "      <td>0</td>\n",
       "      <td>0</td>\n",
       "      <td>0</td>\n",
       "      <td>10</td>\n",
       "      <td>0</td>\n",
       "      <td>0</td>\n",
       "      <td>10</td>\n",
       "    </tr>\n",
       "    <tr>\n",
       "      <th>4007</th>\n",
       "      <td>PLST</td>\n",
       "      <td>AZ</td>\n",
       "      <td>150</td>\n",
       "      <td>0</td>\n",
       "      <td>0</td>\n",
       "      <td>0</td>\n",
       "      <td>0</td>\n",
       "      <td>4008</td>\n",
       "      <td>1500000US040134201113</td>\n",
       "      <td>040134201113</td>\n",
       "      <td>...</td>\n",
       "      <td>0</td>\n",
       "      <td>0</td>\n",
       "      <td>0</td>\n",
       "      <td>0</td>\n",
       "      <td>0</td>\n",
       "      <td>0</td>\n",
       "      <td>0</td>\n",
       "      <td>0</td>\n",
       "      <td>0</td>\n",
       "      <td>0</td>\n",
       "    </tr>\n",
       "    <tr>\n",
       "      <th>4011</th>\n",
       "      <td>PLST</td>\n",
       "      <td>AZ</td>\n",
       "      <td>150</td>\n",
       "      <td>0</td>\n",
       "      <td>0</td>\n",
       "      <td>0</td>\n",
       "      <td>0</td>\n",
       "      <td>4012</td>\n",
       "      <td>1500000US040134201132</td>\n",
       "      <td>040134201132</td>\n",
       "      <td>...</td>\n",
       "      <td>0</td>\n",
       "      <td>0</td>\n",
       "      <td>0</td>\n",
       "      <td>0</td>\n",
       "      <td>0</td>\n",
       "      <td>0</td>\n",
       "      <td>0</td>\n",
       "      <td>0</td>\n",
       "      <td>0</td>\n",
       "      <td>0</td>\n",
       "    </tr>\n",
       "    <tr>\n",
       "      <th>4012</th>\n",
       "      <td>PLST</td>\n",
       "      <td>AZ</td>\n",
       "      <td>150</td>\n",
       "      <td>0</td>\n",
       "      <td>0</td>\n",
       "      <td>0</td>\n",
       "      <td>0</td>\n",
       "      <td>4013</td>\n",
       "      <td>1500000US040134201141</td>\n",
       "      <td>040134201141</td>\n",
       "      <td>...</td>\n",
       "      <td>0</td>\n",
       "      <td>0</td>\n",
       "      <td>0</td>\n",
       "      <td>0</td>\n",
       "      <td>0</td>\n",
       "      <td>0</td>\n",
       "      <td>0</td>\n",
       "      <td>0</td>\n",
       "      <td>0</td>\n",
       "      <td>0</td>\n",
       "    </tr>\n",
       "    <tr>\n",
       "      <th>4013</th>\n",
       "      <td>PLST</td>\n",
       "      <td>AZ</td>\n",
       "      <td>150</td>\n",
       "      <td>0</td>\n",
       "      <td>0</td>\n",
       "      <td>0</td>\n",
       "      <td>0</td>\n",
       "      <td>4014</td>\n",
       "      <td>1500000US040134201142</td>\n",
       "      <td>040134201142</td>\n",
       "      <td>...</td>\n",
       "      <td>0</td>\n",
       "      <td>0</td>\n",
       "      <td>0</td>\n",
       "      <td>0</td>\n",
       "      <td>0</td>\n",
       "      <td>0</td>\n",
       "      <td>0</td>\n",
       "      <td>0</td>\n",
       "      <td>0</td>\n",
       "      <td>0</td>\n",
       "    </tr>\n",
       "    <tr>\n",
       "      <th>...</th>\n",
       "      <td>...</td>\n",
       "      <td>...</td>\n",
       "      <td>...</td>\n",
       "      <td>...</td>\n",
       "      <td>...</td>\n",
       "      <td>...</td>\n",
       "      <td>...</td>\n",
       "      <td>...</td>\n",
       "      <td>...</td>\n",
       "      <td>...</td>\n",
       "      <td>...</td>\n",
       "      <td>...</td>\n",
       "      <td>...</td>\n",
       "      <td>...</td>\n",
       "      <td>...</td>\n",
       "      <td>...</td>\n",
       "      <td>...</td>\n",
       "      <td>...</td>\n",
       "      <td>...</td>\n",
       "      <td>...</td>\n",
       "      <td>...</td>\n",
       "    </tr>\n",
       "    <tr>\n",
       "      <th>4367</th>\n",
       "      <td>PLST</td>\n",
       "      <td>AZ</td>\n",
       "      <td>150</td>\n",
       "      <td>0</td>\n",
       "      <td>0</td>\n",
       "      <td>0</td>\n",
       "      <td>0</td>\n",
       "      <td>4368</td>\n",
       "      <td>1500000US040134226382</td>\n",
       "      <td>040134226382</td>\n",
       "      <td>...</td>\n",
       "      <td>53</td>\n",
       "      <td>53</td>\n",
       "      <td>0</td>\n",
       "      <td>0</td>\n",
       "      <td>53</td>\n",
       "      <td>0</td>\n",
       "      <td>0</td>\n",
       "      <td>0</td>\n",
       "      <td>0</td>\n",
       "      <td>0</td>\n",
       "    </tr>\n",
       "    <tr>\n",
       "      <th>4370</th>\n",
       "      <td>PLST</td>\n",
       "      <td>AZ</td>\n",
       "      <td>150</td>\n",
       "      <td>0</td>\n",
       "      <td>0</td>\n",
       "      <td>0</td>\n",
       "      <td>0</td>\n",
       "      <td>4371</td>\n",
       "      <td>1500000US040134226393</td>\n",
       "      <td>040134226393</td>\n",
       "      <td>...</td>\n",
       "      <td>0</td>\n",
       "      <td>0</td>\n",
       "      <td>0</td>\n",
       "      <td>0</td>\n",
       "      <td>0</td>\n",
       "      <td>0</td>\n",
       "      <td>0</td>\n",
       "      <td>0</td>\n",
       "      <td>0</td>\n",
       "      <td>0</td>\n",
       "    </tr>\n",
       "    <tr>\n",
       "      <th>4397</th>\n",
       "      <td>PLST</td>\n",
       "      <td>AZ</td>\n",
       "      <td>150</td>\n",
       "      <td>0</td>\n",
       "      <td>0</td>\n",
       "      <td>0</td>\n",
       "      <td>0</td>\n",
       "      <td>4398</td>\n",
       "      <td>1500000US040134226532</td>\n",
       "      <td>040134226532</td>\n",
       "      <td>...</td>\n",
       "      <td>7</td>\n",
       "      <td>0</td>\n",
       "      <td>0</td>\n",
       "      <td>0</td>\n",
       "      <td>0</td>\n",
       "      <td>0</td>\n",
       "      <td>7</td>\n",
       "      <td>0</td>\n",
       "      <td>0</td>\n",
       "      <td>7</td>\n",
       "    </tr>\n",
       "    <tr>\n",
       "      <th>4412</th>\n",
       "      <td>PLST</td>\n",
       "      <td>AZ</td>\n",
       "      <td>150</td>\n",
       "      <td>0</td>\n",
       "      <td>0</td>\n",
       "      <td>0</td>\n",
       "      <td>0</td>\n",
       "      <td>4413</td>\n",
       "      <td>1500000US040134226601</td>\n",
       "      <td>040134226601</td>\n",
       "      <td>...</td>\n",
       "      <td>63</td>\n",
       "      <td>0</td>\n",
       "      <td>0</td>\n",
       "      <td>0</td>\n",
       "      <td>0</td>\n",
       "      <td>0</td>\n",
       "      <td>63</td>\n",
       "      <td>0</td>\n",
       "      <td>0</td>\n",
       "      <td>63</td>\n",
       "    </tr>\n",
       "    <tr>\n",
       "      <th>4413</th>\n",
       "      <td>PLST</td>\n",
       "      <td>AZ</td>\n",
       "      <td>150</td>\n",
       "      <td>0</td>\n",
       "      <td>0</td>\n",
       "      <td>0</td>\n",
       "      <td>0</td>\n",
       "      <td>4414</td>\n",
       "      <td>1500000US040134226602</td>\n",
       "      <td>040134226602</td>\n",
       "      <td>...</td>\n",
       "      <td>18</td>\n",
       "      <td>0</td>\n",
       "      <td>0</td>\n",
       "      <td>0</td>\n",
       "      <td>0</td>\n",
       "      <td>0</td>\n",
       "      <td>18</td>\n",
       "      <td>0</td>\n",
       "      <td>0</td>\n",
       "      <td>18</td>\n",
       "    </tr>\n",
       "  </tbody>\n",
       "</table>\n",
       "<p>171 rows × 413 columns</p>\n",
       "</div>"
      ],
      "text/plain": [
       "     FILEID STUSAB  SUMLEV GEOVAR  GEOCOMP  CHARITER  CIFSN  LOGRECNO  \\\n",
       "3912   PLST     AZ     150      0        0         0      0      3913   \n",
       "4007   PLST     AZ     150      0        0         0      0      4008   \n",
       "4011   PLST     AZ     150      0        0         0      0      4012   \n",
       "4012   PLST     AZ     150      0        0         0      0      4013   \n",
       "4013   PLST     AZ     150      0        0         0      0      4014   \n",
       "...     ...    ...     ...    ...      ...       ...    ...       ...   \n",
       "4367   PLST     AZ     150      0        0         0      0      4368   \n",
       "4370   PLST     AZ     150      0        0         0      0      4371   \n",
       "4397   PLST     AZ     150      0        0         0      0      4398   \n",
       "4412   PLST     AZ     150      0        0         0      0      4413   \n",
       "4413   PLST     AZ     150      0        0         0      0      4414   \n",
       "\n",
       "                      GEOID       GEOCODE  ...  P0050001  P0050002  P0050003  \\\n",
       "3912  1500000US040133193002  040133193002  ...        10         0         0   \n",
       "4007  1500000US040134201113  040134201113  ...         0         0         0   \n",
       "4011  1500000US040134201132  040134201132  ...         0         0         0   \n",
       "4012  1500000US040134201141  040134201141  ...         0         0         0   \n",
       "4013  1500000US040134201142  040134201142  ...         0         0         0   \n",
       "...                     ...           ...  ...       ...       ...       ...   \n",
       "4367  1500000US040134226382  040134226382  ...        53        53         0   \n",
       "4370  1500000US040134226393  040134226393  ...         0         0         0   \n",
       "4397  1500000US040134226532  040134226532  ...         7         0         0   \n",
       "4412  1500000US040134226601  040134226601  ...        63         0         0   \n",
       "4413  1500000US040134226602  040134226602  ...        18         0         0   \n",
       "\n",
       "      P0050004  P0050005 P0050006 P0050007 P0050008 P0050009 P0050010  \n",
       "3912         0         0        0       10        0        0       10  \n",
       "4007         0         0        0        0        0        0        0  \n",
       "4011         0         0        0        0        0        0        0  \n",
       "4012         0         0        0        0        0        0        0  \n",
       "4013         0         0        0        0        0        0        0  \n",
       "...        ...       ...      ...      ...      ...      ...      ...  \n",
       "4367         0        53        0        0        0        0        0  \n",
       "4370         0         0        0        0        0        0        0  \n",
       "4397         0         0        0        7        0        0        7  \n",
       "4412         0         0        0       63        0        0       63  \n",
       "4413         0         0        0       18        0        0       18  \n",
       "\n",
       "[171 rows x 413 columns]"
      ]
     },
     "execution_count": 234,
     "metadata": {},
     "output_type": "execute_result"
    }
   ],
   "source": [
    "gps = block_groups[block_groups['GEOCODE'].isin([group_codes_nz[i] for i in big_clusts[0]])]\n",
    "gps"
   ]
  },
  {
   "cell_type": "code",
   "execution_count": 235,
   "metadata": {},
   "outputs": [
    {
     "data": {
      "text/plain": [
       "266900"
      ]
     },
     "execution_count": 235,
     "metadata": {},
     "output_type": "execute_result"
    }
   ],
   "source": [
    "gps['POP100'].sum()"
   ]
  },
  {
   "cell_type": "code",
   "execution_count": 211,
   "metadata": {},
   "outputs": [],
   "source": [
    "def get_blocks_for_group(group):\n",
    "    blocks = census_data[census_data['SUMLEV']==750]\n",
    "    county_blocks = blocks[blocks['COUNTY']==group['COUNTY']]\n",
    "    tract_blocks = county_blocks[county_blocks['TRACT']==group['TRACT']]\n",
    "    group_blocks = tract_blocks[tract_blocks['BLKGRP']==group['BLKGRP']]\n",
    "    return group_blocks"
   ]
  },
  {
   "cell_type": "code",
   "execution_count": 236,
   "metadata": {
    "scrolled": false
   },
   "outputs": [],
   "source": [
    "bg_blocks = []\n",
    "for i,g in gps.iterrows():\n",
    "    bg_blocks.append(get_blocks_for_group(g))"
   ]
  },
  {
   "cell_type": "code",
   "execution_count": 220,
   "metadata": {},
   "outputs": [],
   "source": [
    "for (i,gp),blks in zip(gps.iterrows(), bg_blocks):\n",
    "    if gp['POP100'] != blks['POP100'].sum():\n",
    "        print(i, gp['POP100'], blks['POP100'].sum())"
   ]
  },
  {
   "cell_type": "code",
   "execution_count": 229,
   "metadata": {},
   "outputs": [
    {
     "name": "stdout",
     "output_type": "stream",
     "text": [
      "{99999: 93646, 7170: 1217, 2690: 217, 9190: 0, 6250: 6293, 7570: 8138, 99997: 100, 4970: 127454, 3400: 10851, 6810: 4821, 3780: 8429, 1870: 5248, 7750: 4117, 3310: 22}\n"
     ]
    }
   ],
   "source": [
    "sduni_pops = {}\n",
    "total_pop = 0\n",
    "for blklist in bg_blocks:\n",
    "    for i,blk in blklist.iterrows():\n",
    "        sduni_pops[blk['SDUNI']] = sduni_pops.get(blk['SDUNI'],0) + blk['POP100']\n",
    "        total_pop += blk['POP100']\n",
    "        \n",
    "print(sduni_pops)"
   ]
  },
  {
   "cell_type": "code",
   "execution_count": 230,
   "metadata": {},
   "outputs": [
    {
     "data": {
      "text/plain": [
       "[(4970, 127454),\n",
       " (99999, 93646),\n",
       " (3400, 10851),\n",
       " (3780, 8429),\n",
       " (7570, 8138),\n",
       " (6250, 6293),\n",
       " (1870, 5248),\n",
       " (6810, 4821),\n",
       " (7750, 4117),\n",
       " (7170, 1217),\n",
       " (2690, 217),\n",
       " (99997, 100),\n",
       " (3310, 22),\n",
       " (9190, 0)]"
      ]
     },
     "execution_count": 230,
     "metadata": {},
     "output_type": "execute_result"
    }
   ],
   "source": [
    "sorted(sduni_pops.items(), key=lambda x: -x[1])"
   ]
  },
  {
   "cell_type": "code",
   "execution_count": 251,
   "metadata": {},
   "outputs": [],
   "source": [
    "blkgp_info = get_info(bg_blocks[0])"
   ]
  },
  {
   "cell_type": "code",
   "execution_count": 262,
   "metadata": {},
   "outputs": [
    {
     "name": "stdout",
     "output_type": "stream",
     "text": [
      "3.8543451451486357\n",
      "1887\n",
      "1046\n"
     ]
    }
   ],
   "source": [
    "x = np.linalg.norm(blkgp_info - group_mat_nz, axis=1)\n",
    "print(min(x))\n",
    "print(np.argmin(x))\n",
    "print(list(big_clusts[0])[0])"
   ]
  },
  {
   "cell_type": "code",
   "execution_count": 254,
   "metadata": {},
   "outputs": [
    {
     "name": "stdout",
     "output_type": "stream",
     "text": [
      "0.6358885017421603\n",
      "0.0\n"
     ]
    }
   ],
   "source": [
    "rts = row_titles()\n",
    "print(blkgp_info[rts.index('SDUNI 4970')])\n",
    "print(blkgp_info[rts.index('SDUNI 7520')])"
   ]
  },
  {
   "cell_type": "code",
   "execution_count": 200,
   "metadata": {
    "scrolled": true
   },
   "outputs": [
    {
     "name": "stdout",
     "output_type": "stream",
     "text": [
      "FILEID      PLST\n",
      "STUSAB        AZ\n",
      "SUMLEV       150\n",
      "GEOVAR         0\n",
      "GEOCOMP        0\n",
      "            ... \n",
      "P0050006       0\n",
      "P0050007       0\n",
      "P0050008       0\n",
      "P0050009       0\n",
      "P0050010       0\n",
      "Name: 2381, Length: 413, dtype: object\n",
      "Blocks\n",
      "       FILEID STUSAB  SUMLEV GEOVAR  GEOCOMP  CHARITER  CIFSN  LOGRECNO  \\\n",
      "57730    PLST     AZ     750      0        0         0      0     57731   \n",
      "57731    PLST     AZ     750      0        0         0      0     57732   \n",
      "57732    PLST     AZ     750      0        0         0      0     57733   \n",
      "57733    PLST     AZ     750      0        0         0      0     57734   \n",
      "57734    PLST     AZ     750      0        0         0      0     57735   \n",
      "...       ...    ...     ...    ...      ...       ...    ...       ...   \n",
      "213169   PLST     AZ     750      0        0         0      0    213170   \n",
      "213170   PLST     AZ     750      0        0         0      0    213171   \n",
      "213171   PLST     AZ     750      0        0         0      0    213172   \n",
      "213172   PLST     AZ     750      0        0         0      0    213173   \n",
      "213173   PLST     AZ     750      0        0         0      0    213174   \n",
      "\n",
      "                           GEOID          GEOCODE  ...  P0050001  P0050002  \\\n",
      "57730   7500000US040019426001000  040019426001000  ...         0         0   \n",
      "57731   7500000US040019426001001  040019426001001  ...         0         0   \n",
      "57732   7500000US040019426001002  040019426001002  ...         0         0   \n",
      "57733   7500000US040019426001003  040019426001003  ...         0         0   \n",
      "57734   7500000US040019426001004  040019426001004  ...         0         0   \n",
      "...                          ...              ...  ...       ...       ...   \n",
      "213169  7500000US040279800061058   40279800061058  ...         0         0   \n",
      "213170  7500000US040279800061059   40279800061059  ...         0         0   \n",
      "213171  7500000US040279800061060   40279800061060  ...         0         0   \n",
      "213172  7500000US040279800061061   40279800061061  ...         0         0   \n",
      "213173  7500000US040279800061062   40279800061062  ...         0         0   \n",
      "\n",
      "        P0050003  P0050004 P0050005 P0050006 P0050007 P0050008 P0050009  \\\n",
      "57730          0         0        0        0        0        0        0   \n",
      "57731          0         0        0        0        0        0        0   \n",
      "57732          0         0        0        0        0        0        0   \n",
      "57733          0         0        0        0        0        0        0   \n",
      "57734          0         0        0        0        0        0        0   \n",
      "...          ...       ...      ...      ...      ...      ...      ...   \n",
      "213169         0         0        0        0        0        0        0   \n",
      "213170         0         0        0        0        0        0        0   \n",
      "213171         0         0        0        0        0        0        0   \n",
      "213172         0         0        0        0        0        0        0   \n",
      "213173         0         0        0        0        0        0        0   \n",
      "\n",
      "       P0050010  \n",
      "57730         0  \n",
      "57731         0  \n",
      "57732         0  \n",
      "57733         0  \n",
      "57734         0  \n",
      "...         ...  \n",
      "213169        0  \n",
      "213170        0  \n",
      "213171        0  \n",
      "213172        0  \n",
      "213173        0  \n",
      "\n",
      "[155444 rows x 413 columns]\n",
      "County  013\n",
      "88257     13\n",
      "88258     13\n",
      "88259     13\n",
      "88260     13\n",
      "88261     13\n",
      "          ..\n",
      "149679    13\n",
      "149680    13\n",
      "149681    13\n",
      "149682    13\n",
      "149683    13\n",
      "Name: COUNTY, Length: 61427, dtype: object\n",
      "Tract  050619\n",
      "94871    50619\n",
      "94872    50619\n",
      "94873    50619\n",
      "94874    50619\n",
      "94875    50619\n",
      "         ...  \n",
      "95050    50619\n",
      "95051    50619\n",
      "95052    50619\n",
      "95053    50619\n",
      "95054    50619\n",
      "Name: TRACT, Length: 184, dtype: object\n",
      "Group  4\n",
      "95018    4\n",
      "95019    4\n",
      "95020    4\n",
      "95021    4\n",
      "95022    4\n",
      "95023    4\n",
      "95024    4\n",
      "95025    4\n",
      "95026    4\n",
      "95027    4\n",
      "95028    4\n",
      "95029    4\n",
      "95030    4\n",
      "95031    4\n",
      "95032    4\n",
      "95033    4\n",
      "95034    4\n",
      "95035    4\n",
      "95036    4\n",
      "95037    4\n",
      "95038    4\n",
      "95039    4\n",
      "95040    4\n",
      "95041    4\n",
      "95042    4\n",
      "95043    4\n",
      "95044    4\n",
      "95045    4\n",
      "95046    4\n",
      "95047    4\n",
      "95048    4\n",
      "95049    4\n",
      "95050    4\n",
      "95051    4\n",
      "95052    4\n",
      "95053    4\n",
      "95054    4\n",
      "Name: BLKGRP, dtype: object\n",
      "\n"
     ]
    }
   ],
   "source": [
    "group= gps.iloc[0]\n",
    "print(group)\n",
    "print('Blocks')\n",
    "blocks = census_data[census_data['SUMLEV']==750]\n",
    "print(blocks)\n",
    "print('County ', group['COUNTY'])\n",
    "county_blocks = blocks[blocks['COUNTY']==int(group['COUNTY'])]\n",
    "print(county_blocks['COUNTY'])\n",
    "print('Tract ', group['TRACT'])\n",
    "tract_blocks = county_blocks[county_blocks['TRACT']==int(group['TRACT'])]\n",
    "print(tract_blocks['TRACT'])\n",
    "print('Group ', group['BLKGRP'])\n",
    "group_blocks = tract_blocks[tract_blocks['BLKGRP']==int(group['BLKGRP'])]\n",
    "print(group_blocks['BLKGRP'])\n",
    "print()"
   ]
  },
  {
   "cell_type": "code",
   "execution_count": 202,
   "metadata": {},
   "outputs": [
    {
     "data": {
      "text/plain": [
       "1412"
      ]
     },
     "execution_count": 202,
     "metadata": {},
     "output_type": "execute_result"
    }
   ],
   "source": [
    "group_blocks['POP100'].sum()"
   ]
  },
  {
   "cell_type": "code",
   "execution_count": 203,
   "metadata": {},
   "outputs": [
    {
     "data": {
      "text/plain": [
       "1412"
      ]
     },
     "execution_count": 203,
     "metadata": {},
     "output_type": "execute_result"
    }
   ],
   "source": [
    "group['POP100']"
   ]
  },
  {
   "cell_type": "code",
   "execution_count": 250,
   "metadata": {},
   "outputs": [],
   "source": [
    "block_groups = census_data[census_data['SUMLEV']==150]"
   ]
  },
  {
   "cell_type": "code",
   "execution_count": 163,
   "metadata": {},
   "outputs": [
    {
     "data": {
      "text/plain": [
       "[<matplotlib.lines.Line2D at 0x226bbb08550>]"
      ]
     },
     "execution_count": 163,
     "metadata": {},
     "output_type": "execute_result"
    },
    {
     "data": {
      "image/png": "[encoded data removed]",
      "text/plain": [
       "<Figure size 432x288 with 1 Axes>"
      ]
     },
     "metadata": {
      "needs_background": "light"
     },
     "output_type": "display_data"
    }
   ],
   "source": [
    "plt.plot(sorted([c.population for c in flat_clusts_ld.values()]))\n",
    "plt.plot([0,len(flat_clusts_ld)],[sum(group_pops_nz)/30]*2)"
   ]
  },
  {
   "cell_type": "code",
   "execution_count": 164,
   "metadata": {},
   "outputs": [
    {
     "data": {
      "text/plain": [
       "[<matplotlib.lines.Line2D at 0x22676edf470>]"
      ]
     },
     "execution_count": 164,
     "metadata": {},
     "output_type": "execute_result"
    },
    {
     "data": {
      "image/png": "[encoded data removed]",
      "text/plain": [
       "<Figure size 432x288 with 1 Axes>"
      ]
     },
     "metadata": {
      "needs_background": "light"
     },
     "output_type": "display_data"
    }
   ],
   "source": [
    "plt.plot(sorted([c.population for c in flat_clusts_cd.values()]))\n",
    "plt.plot([0,len(flat_clusts_cd)],[sum(group_pops_nz)/9]*2)"
   ]
  },
  {
   "cell_type": "code",
   "execution_count": 165,
   "metadata": {},
   "outputs": [],
   "source": [
    "np.savez('arizona_ld_cluster', mat=group_std_nz, pops=group_pops_nz, children=wag_ld.children_, geocodes=group_codes_nz)\n",
    "np.savez('arizona_cd_cluster', mat=group_std_nz, pops=group_pops_nz, children=wag_cd.children_, geocodes=group_codes_nz)"
   ]
  },
  {
   "cell_type": "code",
   "execution_count": 145,
   "metadata": {},
   "outputs": [
    {
     "data": {
      "text/plain": [
       "10"
      ]
     },
     "execution_count": 145,
     "metadata": {},
     "output_type": "execute_result"
    }
   ],
   "source": [
    "len(flat_clusts_cd)"
   ]
  },
  {
   "cell_type": "code",
   "execution_count": 158,
   "metadata": {
    "scrolled": true
   },
   "outputs": [
    {
     "name": "stdout",
     "output_type": "stream",
     "text": [
      "Population:  455739     \r"
     ]
    }
   ],
   "source": [
    "arizona_cd = balance2(flat_clusts_cd, 9)"
   ]
  },
  {
   "cell_type": "code",
   "execution_count": 11,
   "metadata": {},
   "outputs": [],
   "source": [
    "np.savez('arizona_clusters', clusters=clusts)"
   ]
  },
  {
   "cell_type": "code",
   "execution_count": 16,
   "metadata": {},
   "outputs": [
    {
     "name": "stdout",
     "output_type": "stream",
     "text": [
      " 32       \r",
      " 31       \r",
      " 30       \r",
      " 29       \r",
      " 28       \r",
      " 27       \r",
      " 26       \r",
      " 25       \r",
      " 24       \r",
      " 23       \r",
      " 22       \r",
      " 21       \r",
      " 20       \r",
      " 19       \r",
      " 18       \r",
      " 17       \r",
      " 16       \r",
      " 15       \r",
      " 14       \r",
      " 13       \r",
      " 12       \r",
      " 11       \r",
      " 10       \r",
      " 9        \r",
      " 8        \r",
      " 7        \r",
      " 6        \r",
      " 5        \r",
      " 4        \r",
      " 3        \r",
      " 2        \r"
     ]
    },
    {
     "name": "stderr",
     "output_type": "stream",
     "text": [
      "c:\\users\\patri\\miniconda3\\lib\\site-packages\\ipykernel_launcher.py:11: RuntimeWarning: invalid value encountered in true_divide\n",
      "  # This is added back by InteractiveShellApp.init_path()\n",
      "c:\\users\\patri\\miniconda3\\lib\\site-packages\\ipykernel_launcher.py:71: RuntimeWarning: invalid value encountered in double_scalars\n"
     ]
    }
   ],
   "source": [
    "wag = WeightedAgglomerativeClustering()\n",
    "small_clust = wag.fit(group_std[clusts[18788]['members']], group_pops[clusts[18788]['members']])"
   ]
  },
  {
   "cell_type": "code",
   "execution_count": 27,
   "metadata": {},
   "outputs": [
    {
     "data": {
      "text/plain": [
       "{'members': [6624,\n",
       "  6625,\n",
       "  6626,\n",
       "  6627,\n",
       "  6628,\n",
       "  6629,\n",
       "  6630,\n",
       "  6631,\n",
       "  6632,\n",
       "  6633,\n",
       "  6644,\n",
       "  6645,\n",
       "  6646,\n",
       "  6647,\n",
       "  6634,\n",
       "  6635,\n",
       "  6636,\n",
       "  6637,\n",
       "  6642,\n",
       "  6643,\n",
       "  6638,\n",
       "  6639,\n",
       "  6640,\n",
       "  6641,\n",
       "  6598,\n",
       "  6599,\n",
       "  6600,\n",
       "  6601,\n",
       "  6602,\n",
       "  6603,\n",
       "  6608,\n",
       "  6609,\n",
       "  6604,\n",
       "  6605,\n",
       "  6606,\n",
       "  6607,\n",
       "  6614,\n",
       "  6615,\n",
       "  6610,\n",
       "  6611,\n",
       "  6612,\n",
       "  6613,\n",
       "  6616,\n",
       "  6617,\n",
       "  6618,\n",
       "  6619,\n",
       "  6620,\n",
       "  6621,\n",
       "  6622,\n",
       "  6623,\n",
       "  6656,\n",
       "  6657,\n",
       "  6658,\n",
       "  6659,\n",
       "  6648,\n",
       "  6649,\n",
       "  6650,\n",
       "  6651,\n",
       "  6652,\n",
       "  6653,\n",
       "  6654,\n",
       "  6655,\n",
       "  6664,\n",
       "  6665,\n",
       "  6660,\n",
       "  6661,\n",
       "  6662,\n",
       "  6663,\n",
       "  6670,\n",
       "  6671,\n",
       "  6672,\n",
       "  6673,\n",
       "  6666,\n",
       "  6667,\n",
       "  6668,\n",
       "  6669,\n",
       "  6686,\n",
       "  6687,\n",
       "  6682,\n",
       "  6683,\n",
       "  6684,\n",
       "  6685,\n",
       "  6678,\n",
       "  6679,\n",
       "  6680,\n",
       "  6681,\n",
       "  6674,\n",
       "  6675,\n",
       "  6676,\n",
       "  6677,\n",
       "  6688,\n",
       "  6689,\n",
       "  6690,\n",
       "  6691,\n",
       "  6692,\n",
       "  6693,\n",
       "  6694,\n",
       "  6695,\n",
       "  6696,\n",
       "  6697,\n",
       "  6698,\n",
       "  6699,\n",
       "  6700,\n",
       "  6701,\n",
       "  6702,\n",
       "  6703,\n",
       "  6704,\n",
       "  6705,\n",
       "  6706,\n",
       "  6707,\n",
       "  6708,\n",
       "  6709,\n",
       "  3708,\n",
       "  3709,\n",
       "  3710,\n",
       "  3711,\n",
       "  3712,\n",
       "  3713,\n",
       "  3714,\n",
       "  3715,\n",
       "  3716,\n",
       "  3717,\n",
       "  3692,\n",
       "  3693,\n",
       "  3694,\n",
       "  3695,\n",
       "  3696,\n",
       "  3697,\n",
       "  3698,\n",
       "  3699,\n",
       "  3704,\n",
       "  3705,\n",
       "  3706,\n",
       "  3707,\n",
       "  3700,\n",
       "  3701,\n",
       "  3702,\n",
       "  3703,\n",
       "  3688,\n",
       "  3689,\n",
       "  3690,\n",
       "  3691,\n",
       "  3680,\n",
       "  3681,\n",
       "  3682,\n",
       "  3683,\n",
       "  3684,\n",
       "  3685,\n",
       "  3686,\n",
       "  3687,\n",
       "  3672,\n",
       "  3673,\n",
       "  3674,\n",
       "  3675,\n",
       "  3676,\n",
       "  3677,\n",
       "  3678,\n",
       "  3679,\n",
       "  3664,\n",
       "  3665,\n",
       "  3666,\n",
       "  3667,\n",
       "  3668,\n",
       "  3669,\n",
       "  3670,\n",
       "  3671,\n",
       "  3628,\n",
       "  3629,\n",
       "  3630,\n",
       "  3631,\n",
       "  3624,\n",
       "  3625,\n",
       "  3626,\n",
       "  3627,\n",
       "  3620,\n",
       "  3621,\n",
       "  3622,\n",
       "  3623,\n",
       "  3602,\n",
       "  3603,\n",
       "  3604,\n",
       "  3605,\n",
       "  3606,\n",
       "  3607,\n",
       "  3608,\n",
       "  3609,\n",
       "  3610,\n",
       "  3611,\n",
       "  3612,\n",
       "  3613,\n",
       "  3614,\n",
       "  3615,\n",
       "  3616,\n",
       "  3617,\n",
       "  3618,\n",
       "  3619,\n",
       "  3662,\n",
       "  3663,\n",
       "  3658,\n",
       "  3659,\n",
       "  3660,\n",
       "  3661,\n",
       "  3656,\n",
       "  3657,\n",
       "  3652,\n",
       "  3653,\n",
       "  3654,\n",
       "  3655,\n",
       "  3632,\n",
       "  3633,\n",
       "  3634,\n",
       "  3635,\n",
       "  3636,\n",
       "  3637,\n",
       "  3638,\n",
       "  3639,\n",
       "  3640,\n",
       "  3641,\n",
       "  3642,\n",
       "  3643,\n",
       "  3650,\n",
       "  3651,\n",
       "  3644,\n",
       "  3645,\n",
       "  3646,\n",
       "  3647,\n",
       "  3648,\n",
       "  3649],\n",
       " 'pop': 235875}"
      ]
     },
     "execution_count": 27,
     "metadata": {},
     "output_type": "execute_result"
    }
   ],
   "source": [
    "smcl = clusts[smclts[-1]]\n",
    "smcl"
   ]
  },
  {
   "cell_type": "code",
   "execution_count": 160,
   "metadata": {},
   "outputs": [],
   "source": [
    "np.blastoise = balance2"
   ]
  },
  {
   "cell_type": "code",
   "execution_count": 23,
   "metadata": {},
   "outputs": [
    {
     "data": {
      "text/plain": [
       "0"
      ]
     },
     "execution_count": 23,
     "metadata": {},
     "output_type": "execute_result"
    }
   ],
   "source": [
    "group_data.iloc[3940]['POP100']"
   ]
  },
  {
   "cell_type": "code",
   "execution_count": 28,
   "metadata": {},
   "outputs": [
    {
     "data": {
      "text/html": [
       "<div>\n",
       "<style scoped>\n",
       "    .dataframe tbody tr th:only-of-type {\n",
       "        vertical-align: middle;\n",
       "    }\n",
       "\n",
       "    .dataframe tbody tr th {\n",
       "        vertical-align: top;\n",
       "    }\n",
       "\n",
       "    .dataframe thead th {\n",
       "        text-align: right;\n",
       "    }\n",
       "</style>\n",
       "<table border=\"1\" class=\"dataframe\">\n",
       "  <thead>\n",
       "    <tr style=\"text-align: right;\">\n",
       "      <th></th>\n",
       "      <th>FILEID</th>\n",
       "      <th>STUSAB</th>\n",
       "      <th>SUMLEV</th>\n",
       "      <th>GEOVAR</th>\n",
       "      <th>GEOCOMP</th>\n",
       "      <th>CHARITER</th>\n",
       "      <th>CIFSN</th>\n",
       "      <th>LOGRECNO</th>\n",
       "      <th>GEOID</th>\n",
       "      <th>GEOCODE</th>\n",
       "      <th>...</th>\n",
       "      <th>P0050001</th>\n",
       "      <th>P0050002</th>\n",
       "      <th>P0050003</th>\n",
       "      <th>P0050004</th>\n",
       "      <th>P0050005</th>\n",
       "      <th>P0050006</th>\n",
       "      <th>P0050007</th>\n",
       "      <th>P0050008</th>\n",
       "      <th>P0050009</th>\n",
       "      <th>P0050010</th>\n",
       "    </tr>\n",
       "  </thead>\n",
       "  <tbody>\n",
       "    <tr>\n",
       "      <th>48283</th>\n",
       "      <td>PLST</td>\n",
       "      <td>AZ</td>\n",
       "      <td>740</td>\n",
       "      <td>0</td>\n",
       "      <td>0</td>\n",
       "      <td>0</td>\n",
       "      <td>0</td>\n",
       "      <td>48284</td>\n",
       "      <td>7400000US0400100000591275999999705023</td>\n",
       "      <td>0400100000591275999999705023</td>\n",
       "      <td>...</td>\n",
       "      <td>0</td>\n",
       "      <td>0</td>\n",
       "      <td>0</td>\n",
       "      <td>0</td>\n",
       "      <td>0</td>\n",
       "      <td>0</td>\n",
       "      <td>0</td>\n",
       "      <td>0</td>\n",
       "      <td>0</td>\n",
       "      <td>0</td>\n",
       "    </tr>\n",
       "    <tr>\n",
       "      <th>48295</th>\n",
       "      <td>PLST</td>\n",
       "      <td>AZ</td>\n",
       "      <td>740</td>\n",
       "      <td>0</td>\n",
       "      <td>0</td>\n",
       "      <td>0</td>\n",
       "      <td>0</td>\n",
       "      <td>48296</td>\n",
       "      <td>7400000US0400100001090612999999443011</td>\n",
       "      <td>0400100001090612999999443011</td>\n",
       "      <td>...</td>\n",
       "      <td>0</td>\n",
       "      <td>0</td>\n",
       "      <td>0</td>\n",
       "      <td>0</td>\n",
       "      <td>0</td>\n",
       "      <td>0</td>\n",
       "      <td>0</td>\n",
       "      <td>0</td>\n",
       "      <td>0</td>\n",
       "      <td>0</td>\n",
       "    </tr>\n",
       "    <tr>\n",
       "      <th>48297</th>\n",
       "      <td>PLST</td>\n",
       "      <td>AZ</td>\n",
       "      <td>740</td>\n",
       "      <td>0</td>\n",
       "      <td>0</td>\n",
       "      <td>0</td>\n",
       "      <td>0</td>\n",
       "      <td>48298</td>\n",
       "      <td>7400000US0400100001091326999999440001</td>\n",
       "      <td>0400100001091326999999440001</td>\n",
       "      <td>...</td>\n",
       "      <td>0</td>\n",
       "      <td>0</td>\n",
       "      <td>0</td>\n",
       "      <td>0</td>\n",
       "      <td>0</td>\n",
       "      <td>0</td>\n",
       "      <td>0</td>\n",
       "      <td>0</td>\n",
       "      <td>0</td>\n",
       "      <td>0</td>\n",
       "    </tr>\n",
       "    <tr>\n",
       "      <th>48304</th>\n",
       "      <td>PLST</td>\n",
       "      <td>AZ</td>\n",
       "      <td>740</td>\n",
       "      <td>0</td>\n",
       "      <td>0</td>\n",
       "      <td>0</td>\n",
       "      <td>0</td>\n",
       "      <td>48305</td>\n",
       "      <td>7400000US0400100001590612999999443022</td>\n",
       "      <td>0400100001590612999999443022</td>\n",
       "      <td>...</td>\n",
       "      <td>0</td>\n",
       "      <td>0</td>\n",
       "      <td>0</td>\n",
       "      <td>0</td>\n",
       "      <td>0</td>\n",
       "      <td>0</td>\n",
       "      <td>0</td>\n",
       "      <td>0</td>\n",
       "      <td>0</td>\n",
       "      <td>0</td>\n",
       "    </tr>\n",
       "    <tr>\n",
       "      <th>48305</th>\n",
       "      <td>PLST</td>\n",
       "      <td>AZ</td>\n",
       "      <td>740</td>\n",
       "      <td>0</td>\n",
       "      <td>0</td>\n",
       "      <td>0</td>\n",
       "      <td>0</td>\n",
       "      <td>48306</td>\n",
       "      <td>7400000US0400100002092805999999451002</td>\n",
       "      <td>0400100002092805999999451002</td>\n",
       "      <td>...</td>\n",
       "      <td>0</td>\n",
       "      <td>0</td>\n",
       "      <td>0</td>\n",
       "      <td>0</td>\n",
       "      <td>0</td>\n",
       "      <td>0</td>\n",
       "      <td>0</td>\n",
       "      <td>0</td>\n",
       "      <td>0</td>\n",
       "      <td>0</td>\n",
       "    </tr>\n",
       "    <tr>\n",
       "      <th>...</th>\n",
       "      <td>...</td>\n",
       "      <td>...</td>\n",
       "      <td>...</td>\n",
       "      <td>...</td>\n",
       "      <td>...</td>\n",
       "      <td>...</td>\n",
       "      <td>...</td>\n",
       "      <td>...</td>\n",
       "      <td>...</td>\n",
       "      <td>...</td>\n",
       "      <td>...</td>\n",
       "      <td>...</td>\n",
       "      <td>...</td>\n",
       "      <td>...</td>\n",
       "      <td>...</td>\n",
       "      <td>...</td>\n",
       "      <td>...</td>\n",
       "      <td>...</td>\n",
       "      <td>...</td>\n",
       "      <td>...</td>\n",
       "      <td>...</td>\n",
       "    </tr>\n",
       "    <tr>\n",
       "      <th>57706</th>\n",
       "      <td>PLST</td>\n",
       "      <td>AZ</td>\n",
       "      <td>740</td>\n",
       "      <td>0</td>\n",
       "      <td>0</td>\n",
       "      <td>0</td>\n",
       "      <td>0</td>\n",
       "      <td>57707</td>\n",
       "      <td>7400000US04027000P3893978999990001001</td>\n",
       "      <td>04027000P3893978999990001001</td>\n",
       "      <td>...</td>\n",
       "      <td>0</td>\n",
       "      <td>0</td>\n",
       "      <td>0</td>\n",
       "      <td>0</td>\n",
       "      <td>0</td>\n",
       "      <td>0</td>\n",
       "      <td>0</td>\n",
       "      <td>0</td>\n",
       "      <td>0</td>\n",
       "      <td>0</td>\n",
       "    </tr>\n",
       "    <tr>\n",
       "      <th>57707</th>\n",
       "      <td>PLST</td>\n",
       "      <td>AZ</td>\n",
       "      <td>740</td>\n",
       "      <td>0</td>\n",
       "      <td>0</td>\n",
       "      <td>0</td>\n",
       "      <td>0</td>\n",
       "      <td>57708</td>\n",
       "      <td>7400000US04027000P3993978855400005011</td>\n",
       "      <td>04027000P3993978855400005011</td>\n",
       "      <td>...</td>\n",
       "      <td>0</td>\n",
       "      <td>0</td>\n",
       "      <td>0</td>\n",
       "      <td>0</td>\n",
       "      <td>0</td>\n",
       "      <td>0</td>\n",
       "      <td>0</td>\n",
       "      <td>0</td>\n",
       "      <td>0</td>\n",
       "      <td>0</td>\n",
       "    </tr>\n",
       "    <tr>\n",
       "      <th>57712</th>\n",
       "      <td>PLST</td>\n",
       "      <td>AZ</td>\n",
       "      <td>740</td>\n",
       "      <td>0</td>\n",
       "      <td>0</td>\n",
       "      <td>0</td>\n",
       "      <td>0</td>\n",
       "      <td>57713</td>\n",
       "      <td>7400000US04027000P3993978999990005011</td>\n",
       "      <td>04027000P3993978999990005011</td>\n",
       "      <td>...</td>\n",
       "      <td>0</td>\n",
       "      <td>0</td>\n",
       "      <td>0</td>\n",
       "      <td>0</td>\n",
       "      <td>0</td>\n",
       "      <td>0</td>\n",
       "      <td>0</td>\n",
       "      <td>0</td>\n",
       "      <td>0</td>\n",
       "      <td>0</td>\n",
       "    </tr>\n",
       "    <tr>\n",
       "      <th>57713</th>\n",
       "      <td>PLST</td>\n",
       "      <td>AZ</td>\n",
       "      <td>740</td>\n",
       "      <td>0</td>\n",
       "      <td>0</td>\n",
       "      <td>0</td>\n",
       "      <td>0</td>\n",
       "      <td>57714</td>\n",
       "      <td>7400000US04027000P3993978999990006005</td>\n",
       "      <td>04027000P3993978999990006005</td>\n",
       "      <td>...</td>\n",
       "      <td>0</td>\n",
       "      <td>0</td>\n",
       "      <td>0</td>\n",
       "      <td>0</td>\n",
       "      <td>0</td>\n",
       "      <td>0</td>\n",
       "      <td>0</td>\n",
       "      <td>0</td>\n",
       "      <td>0</td>\n",
       "      <td>0</td>\n",
       "    </tr>\n",
       "    <tr>\n",
       "      <th>57728</th>\n",
       "      <td>PLST</td>\n",
       "      <td>AZ</td>\n",
       "      <td>740</td>\n",
       "      <td>0</td>\n",
       "      <td>0</td>\n",
       "      <td>0</td>\n",
       "      <td>0</td>\n",
       "      <td>57729</td>\n",
       "      <td>7400000US04027000P4393264855400118012</td>\n",
       "      <td>04027000P4393264855400118012</td>\n",
       "      <td>...</td>\n",
       "      <td>0</td>\n",
       "      <td>0</td>\n",
       "      <td>0</td>\n",
       "      <td>0</td>\n",
       "      <td>0</td>\n",
       "      <td>0</td>\n",
       "      <td>0</td>\n",
       "      <td>0</td>\n",
       "      <td>0</td>\n",
       "      <td>0</td>\n",
       "    </tr>\n",
       "  </tbody>\n",
       "</table>\n",
       "<p>1796 rows × 413 columns</p>\n",
       "</div>"
      ],
      "text/plain": [
       "      FILEID STUSAB  SUMLEV GEOVAR  GEOCOMP  CHARITER  CIFSN  LOGRECNO  \\\n",
       "48283   PLST     AZ     740      0        0         0      0     48284   \n",
       "48295   PLST     AZ     740      0        0         0      0     48296   \n",
       "48297   PLST     AZ     740      0        0         0      0     48298   \n",
       "48304   PLST     AZ     740      0        0         0      0     48305   \n",
       "48305   PLST     AZ     740      0        0         0      0     48306   \n",
       "...      ...    ...     ...    ...      ...       ...    ...       ...   \n",
       "57706   PLST     AZ     740      0        0         0      0     57707   \n",
       "57707   PLST     AZ     740      0        0         0      0     57708   \n",
       "57712   PLST     AZ     740      0        0         0      0     57713   \n",
       "57713   PLST     AZ     740      0        0         0      0     57714   \n",
       "57728   PLST     AZ     740      0        0         0      0     57729   \n",
       "\n",
       "                                       GEOID                       GEOCODE  \\\n",
       "48283  7400000US0400100000591275999999705023  0400100000591275999999705023   \n",
       "48295  7400000US0400100001090612999999443011  0400100001090612999999443011   \n",
       "48297  7400000US0400100001091326999999440001  0400100001091326999999440001   \n",
       "48304  7400000US0400100001590612999999443022  0400100001590612999999443022   \n",
       "48305  7400000US0400100002092805999999451002  0400100002092805999999451002   \n",
       "...                                      ...                           ...   \n",
       "57706  7400000US04027000P3893978999990001001  04027000P3893978999990001001   \n",
       "57707  7400000US04027000P3993978855400005011  04027000P3993978855400005011   \n",
       "57712  7400000US04027000P3993978999990005011  04027000P3993978999990005011   \n",
       "57713  7400000US04027000P3993978999990006005  04027000P3993978999990006005   \n",
       "57728  7400000US04027000P4393264855400118012  04027000P4393264855400118012   \n",
       "\n",
       "       ...  P0050001  P0050002  P0050003  P0050004 P0050005 P0050006 P0050007  \\\n",
       "48283  ...         0         0         0         0        0        0        0   \n",
       "48295  ...         0         0         0         0        0        0        0   \n",
       "48297  ...         0         0         0         0        0        0        0   \n",
       "48304  ...         0         0         0         0        0        0        0   \n",
       "48305  ...         0         0         0         0        0        0        0   \n",
       "...    ...       ...       ...       ...       ...      ...      ...      ...   \n",
       "57706  ...         0         0         0         0        0        0        0   \n",
       "57707  ...         0         0         0         0        0        0        0   \n",
       "57712  ...         0         0         0         0        0        0        0   \n",
       "57713  ...         0         0         0         0        0        0        0   \n",
       "57728  ...         0         0         0         0        0        0        0   \n",
       "\n",
       "      P0050008 P0050009 P0050010  \n",
       "48283        0        0        0  \n",
       "48295        0        0        0  \n",
       "48297        0        0        0  \n",
       "48304        0        0        0  \n",
       "48305        0        0        0  \n",
       "...        ...      ...      ...  \n",
       "57706        0        0        0  \n",
       "57707        0        0        0  \n",
       "57712        0        0        0  \n",
       "57713        0        0        0  \n",
       "57728        0        0        0  \n",
       "\n",
       "[1796 rows x 413 columns]"
      ]
     },
     "execution_count": 28,
     "metadata": {},
     "output_type": "execute_result"
    }
   ],
   "source": [
    "group_data[group_data['POP100']==0]"
   ]
  },
  {
   "cell_type": "code",
   "execution_count": 29,
   "metadata": {},
   "outputs": [
    {
     "data": {
      "text/html": [
       "<div>\n",
       "<style scoped>\n",
       "    .dataframe tbody tr th:only-of-type {\n",
       "        vertical-align: middle;\n",
       "    }\n",
       "\n",
       "    .dataframe tbody tr th {\n",
       "        vertical-align: top;\n",
       "    }\n",
       "\n",
       "    .dataframe thead th {\n",
       "        text-align: right;\n",
       "    }\n",
       "</style>\n",
       "<table border=\"1\" class=\"dataframe\">\n",
       "  <thead>\n",
       "    <tr style=\"text-align: right;\">\n",
       "      <th></th>\n",
       "      <th>FILEID</th>\n",
       "      <th>STUSAB</th>\n",
       "      <th>SUMLEV</th>\n",
       "      <th>GEOVAR</th>\n",
       "      <th>GEOCOMP</th>\n",
       "      <th>CHARITER</th>\n",
       "      <th>CIFSN</th>\n",
       "      <th>LOGRECNO</th>\n",
       "      <th>GEOID</th>\n",
       "      <th>GEOCODE</th>\n",
       "      <th>...</th>\n",
       "      <th>P0050001</th>\n",
       "      <th>P0050002</th>\n",
       "      <th>P0050003</th>\n",
       "      <th>P0050004</th>\n",
       "      <th>P0050005</th>\n",
       "      <th>P0050006</th>\n",
       "      <th>P0050007</th>\n",
       "      <th>P0050008</th>\n",
       "      <th>P0050009</th>\n",
       "      <th>P0050010</th>\n",
       "    </tr>\n",
       "  </thead>\n",
       "  <tbody>\n",
       "    <tr>\n",
       "      <th>48281</th>\n",
       "      <td>PLST</td>\n",
       "      <td>AZ</td>\n",
       "      <td>740</td>\n",
       "      <td>0</td>\n",
       "      <td>0</td>\n",
       "      <td>0</td>\n",
       "      <td>0</td>\n",
       "      <td>48282</td>\n",
       "      <td>7400000US0400100000591071019209705021</td>\n",
       "      <td>0400100000591071019209705021</td>\n",
       "      <td>...</td>\n",
       "      <td>0</td>\n",
       "      <td>0</td>\n",
       "      <td>0</td>\n",
       "      <td>0</td>\n",
       "      <td>0</td>\n",
       "      <td>0</td>\n",
       "      <td>0</td>\n",
       "      <td>0</td>\n",
       "      <td>0</td>\n",
       "      <td>0</td>\n",
       "    </tr>\n",
       "    <tr>\n",
       "      <th>48282</th>\n",
       "      <td>PLST</td>\n",
       "      <td>AZ</td>\n",
       "      <td>740</td>\n",
       "      <td>0</td>\n",
       "      <td>0</td>\n",
       "      <td>0</td>\n",
       "      <td>0</td>\n",
       "      <td>48283</td>\n",
       "      <td>7400000US0400100000591071999999705021</td>\n",
       "      <td>0400100000591071999999705021</td>\n",
       "      <td>...</td>\n",
       "      <td>0</td>\n",
       "      <td>0</td>\n",
       "      <td>0</td>\n",
       "      <td>0</td>\n",
       "      <td>0</td>\n",
       "      <td>0</td>\n",
       "      <td>0</td>\n",
       "      <td>0</td>\n",
       "      <td>0</td>\n",
       "      <td>0</td>\n",
       "    </tr>\n",
       "    <tr>\n",
       "      <th>48283</th>\n",
       "      <td>PLST</td>\n",
       "      <td>AZ</td>\n",
       "      <td>740</td>\n",
       "      <td>0</td>\n",
       "      <td>0</td>\n",
       "      <td>0</td>\n",
       "      <td>0</td>\n",
       "      <td>48284</td>\n",
       "      <td>7400000US0400100000591275999999705023</td>\n",
       "      <td>0400100000591275999999705023</td>\n",
       "      <td>...</td>\n",
       "      <td>0</td>\n",
       "      <td>0</td>\n",
       "      <td>0</td>\n",
       "      <td>0</td>\n",
       "      <td>0</td>\n",
       "      <td>0</td>\n",
       "      <td>0</td>\n",
       "      <td>0</td>\n",
       "      <td>0</td>\n",
       "      <td>0</td>\n",
       "    </tr>\n",
       "    <tr>\n",
       "      <th>48284</th>\n",
       "      <td>PLST</td>\n",
       "      <td>AZ</td>\n",
       "      <td>740</td>\n",
       "      <td>0</td>\n",
       "      <td>0</td>\n",
       "      <td>0</td>\n",
       "      <td>0</td>\n",
       "      <td>48285</td>\n",
       "      <td>7400000US0400100001090612127709442011</td>\n",
       "      <td>0400100001090612127709442011</td>\n",
       "      <td>...</td>\n",
       "      <td>0</td>\n",
       "      <td>0</td>\n",
       "      <td>0</td>\n",
       "      <td>0</td>\n",
       "      <td>0</td>\n",
       "      <td>0</td>\n",
       "      <td>0</td>\n",
       "      <td>0</td>\n",
       "      <td>0</td>\n",
       "      <td>0</td>\n",
       "    </tr>\n",
       "    <tr>\n",
       "      <th>48285</th>\n",
       "      <td>PLST</td>\n",
       "      <td>AZ</td>\n",
       "      <td>740</td>\n",
       "      <td>0</td>\n",
       "      <td>0</td>\n",
       "      <td>0</td>\n",
       "      <td>0</td>\n",
       "      <td>48286</td>\n",
       "      <td>7400000US0400100001090612127709442021</td>\n",
       "      <td>0400100001090612127709442021</td>\n",
       "      <td>...</td>\n",
       "      <td>0</td>\n",
       "      <td>0</td>\n",
       "      <td>0</td>\n",
       "      <td>0</td>\n",
       "      <td>0</td>\n",
       "      <td>0</td>\n",
       "      <td>0</td>\n",
       "      <td>0</td>\n",
       "      <td>0</td>\n",
       "      <td>0</td>\n",
       "    </tr>\n",
       "    <tr>\n",
       "      <th>...</th>\n",
       "      <td>...</td>\n",
       "      <td>...</td>\n",
       "      <td>...</td>\n",
       "      <td>...</td>\n",
       "      <td>...</td>\n",
       "      <td>...</td>\n",
       "      <td>...</td>\n",
       "      <td>...</td>\n",
       "      <td>...</td>\n",
       "      <td>...</td>\n",
       "      <td>...</td>\n",
       "      <td>...</td>\n",
       "      <td>...</td>\n",
       "      <td>...</td>\n",
       "      <td>...</td>\n",
       "      <td>...</td>\n",
       "      <td>...</td>\n",
       "      <td>...</td>\n",
       "      <td>...</td>\n",
       "      <td>...</td>\n",
       "      <td>...</td>\n",
       "    </tr>\n",
       "    <tr>\n",
       "      <th>57725</th>\n",
       "      <td>PLST</td>\n",
       "      <td>AZ</td>\n",
       "      <td>740</td>\n",
       "      <td>0</td>\n",
       "      <td>0</td>\n",
       "      <td>0</td>\n",
       "      <td>0</td>\n",
       "      <td>57726</td>\n",
       "      <td>7400000US04027000P4293978999990009071</td>\n",
       "      <td>04027000P4293978999990009071</td>\n",
       "      <td>...</td>\n",
       "      <td>0</td>\n",
       "      <td>0</td>\n",
       "      <td>0</td>\n",
       "      <td>0</td>\n",
       "      <td>0</td>\n",
       "      <td>0</td>\n",
       "      <td>0</td>\n",
       "      <td>0</td>\n",
       "      <td>0</td>\n",
       "      <td>0</td>\n",
       "    </tr>\n",
       "    <tr>\n",
       "      <th>57726</th>\n",
       "      <td>PLST</td>\n",
       "      <td>AZ</td>\n",
       "      <td>740</td>\n",
       "      <td>0</td>\n",
       "      <td>0</td>\n",
       "      <td>0</td>\n",
       "      <td>0</td>\n",
       "      <td>57727</td>\n",
       "      <td>7400000US04027000P4293978999990009072</td>\n",
       "      <td>04027000P4293978999990009072</td>\n",
       "      <td>...</td>\n",
       "      <td>0</td>\n",
       "      <td>0</td>\n",
       "      <td>0</td>\n",
       "      <td>0</td>\n",
       "      <td>0</td>\n",
       "      <td>0</td>\n",
       "      <td>0</td>\n",
       "      <td>0</td>\n",
       "      <td>0</td>\n",
       "      <td>0</td>\n",
       "    </tr>\n",
       "    <tr>\n",
       "      <th>57727</th>\n",
       "      <td>PLST</td>\n",
       "      <td>AZ</td>\n",
       "      <td>740</td>\n",
       "      <td>0</td>\n",
       "      <td>0</td>\n",
       "      <td>0</td>\n",
       "      <td>0</td>\n",
       "      <td>57728</td>\n",
       "      <td>7400000US04027000P4293978999990009074</td>\n",
       "      <td>04027000P4293978999990009074</td>\n",
       "      <td>...</td>\n",
       "      <td>0</td>\n",
       "      <td>0</td>\n",
       "      <td>0</td>\n",
       "      <td>0</td>\n",
       "      <td>0</td>\n",
       "      <td>0</td>\n",
       "      <td>0</td>\n",
       "      <td>0</td>\n",
       "      <td>0</td>\n",
       "      <td>0</td>\n",
       "    </tr>\n",
       "    <tr>\n",
       "      <th>57728</th>\n",
       "      <td>PLST</td>\n",
       "      <td>AZ</td>\n",
       "      <td>740</td>\n",
       "      <td>0</td>\n",
       "      <td>0</td>\n",
       "      <td>0</td>\n",
       "      <td>0</td>\n",
       "      <td>57729</td>\n",
       "      <td>7400000US04027000P4393264855400118012</td>\n",
       "      <td>04027000P4393264855400118012</td>\n",
       "      <td>...</td>\n",
       "      <td>0</td>\n",
       "      <td>0</td>\n",
       "      <td>0</td>\n",
       "      <td>0</td>\n",
       "      <td>0</td>\n",
       "      <td>0</td>\n",
       "      <td>0</td>\n",
       "      <td>0</td>\n",
       "      <td>0</td>\n",
       "      <td>0</td>\n",
       "    </tr>\n",
       "    <tr>\n",
       "      <th>57729</th>\n",
       "      <td>PLST</td>\n",
       "      <td>AZ</td>\n",
       "      <td>740</td>\n",
       "      <td>0</td>\n",
       "      <td>0</td>\n",
       "      <td>0</td>\n",
       "      <td>0</td>\n",
       "      <td>57730</td>\n",
       "      <td>7400000US04027000P4393264999990118012</td>\n",
       "      <td>04027000P4393264999990118012</td>\n",
       "      <td>...</td>\n",
       "      <td>0</td>\n",
       "      <td>0</td>\n",
       "      <td>0</td>\n",
       "      <td>0</td>\n",
       "      <td>0</td>\n",
       "      <td>0</td>\n",
       "      <td>0</td>\n",
       "      <td>0</td>\n",
       "      <td>0</td>\n",
       "      <td>0</td>\n",
       "    </tr>\n",
       "  </tbody>\n",
       "</table>\n",
       "<p>9449 rows × 413 columns</p>\n",
       "</div>"
      ],
      "text/plain": [
       "      FILEID STUSAB  SUMLEV GEOVAR  GEOCOMP  CHARITER  CIFSN  LOGRECNO  \\\n",
       "48281   PLST     AZ     740      0        0         0      0     48282   \n",
       "48282   PLST     AZ     740      0        0         0      0     48283   \n",
       "48283   PLST     AZ     740      0        0         0      0     48284   \n",
       "48284   PLST     AZ     740      0        0         0      0     48285   \n",
       "48285   PLST     AZ     740      0        0         0      0     48286   \n",
       "...      ...    ...     ...    ...      ...       ...    ...       ...   \n",
       "57725   PLST     AZ     740      0        0         0      0     57726   \n",
       "57726   PLST     AZ     740      0        0         0      0     57727   \n",
       "57727   PLST     AZ     740      0        0         0      0     57728   \n",
       "57728   PLST     AZ     740      0        0         0      0     57729   \n",
       "57729   PLST     AZ     740      0        0         0      0     57730   \n",
       "\n",
       "                                       GEOID                       GEOCODE  \\\n",
       "48281  7400000US0400100000591071019209705021  0400100000591071019209705021   \n",
       "48282  7400000US0400100000591071999999705021  0400100000591071999999705021   \n",
       "48283  7400000US0400100000591275999999705023  0400100000591275999999705023   \n",
       "48284  7400000US0400100001090612127709442011  0400100001090612127709442011   \n",
       "48285  7400000US0400100001090612127709442021  0400100001090612127709442021   \n",
       "...                                      ...                           ...   \n",
       "57725  7400000US04027000P4293978999990009071  04027000P4293978999990009071   \n",
       "57726  7400000US04027000P4293978999990009072  04027000P4293978999990009072   \n",
       "57727  7400000US04027000P4293978999990009074  04027000P4293978999990009074   \n",
       "57728  7400000US04027000P4393264855400118012  04027000P4393264855400118012   \n",
       "57729  7400000US04027000P4393264999990118012  04027000P4393264999990118012   \n",
       "\n",
       "       ...  P0050001  P0050002  P0050003  P0050004 P0050005 P0050006 P0050007  \\\n",
       "48281  ...         0         0         0         0        0        0        0   \n",
       "48282  ...         0         0         0         0        0        0        0   \n",
       "48283  ...         0         0         0         0        0        0        0   \n",
       "48284  ...         0         0         0         0        0        0        0   \n",
       "48285  ...         0         0         0         0        0        0        0   \n",
       "...    ...       ...       ...       ...       ...      ...      ...      ...   \n",
       "57725  ...         0         0         0         0        0        0        0   \n",
       "57726  ...         0         0         0         0        0        0        0   \n",
       "57727  ...         0         0         0         0        0        0        0   \n",
       "57728  ...         0         0         0         0        0        0        0   \n",
       "57729  ...         0         0         0         0        0        0        0   \n",
       "\n",
       "      P0050008 P0050009 P0050010  \n",
       "48281        0        0        0  \n",
       "48282        0        0        0  \n",
       "48283        0        0        0  \n",
       "48284        0        0        0  \n",
       "48285        0        0        0  \n",
       "...        ...      ...      ...  \n",
       "57725        0        0        0  \n",
       "57726        0        0        0  \n",
       "57727        0        0        0  \n",
       "57728        0        0        0  \n",
       "57729        0        0        0  \n",
       "\n",
       "[9449 rows x 413 columns]"
      ]
     },
     "execution_count": 29,
     "metadata": {},
     "output_type": "execute_result"
    }
   ],
   "source": [
    "group_data"
   ]
  },
  {
   "cell_type": "code",
   "execution_count": 30,
   "metadata": {},
   "outputs": [],
   "source": [
    "group_data_nz = group_data[group_data['POP100'] > 0]\n",
    "group_pops_nz = np.array(group_data_nz['POP100'].array)\n",
    "group_std_nz = group_std[[i for i in range(len(group_std)) if group_data.iloc[i]['POP100'] > 0]]"
   ]
  },
  {
   "cell_type": "code",
   "execution_count": null,
   "metadata": {},
   "outputs": [],
   "source": [
    "wag = WeightedAgglomerativeClustering(30)\n",
    "clusts_nz = wag.fit(group_std_nz, group_pops_nz)"
   ]
  }
 ],
 "metadata": {
  "kernelspec": {
   "display_name": "Python 3",
   "language": "python",
   "name": "python3"
  },
  "language_info": {
   "codemirror_mode": {
    "name": "ipython",
    "version": 3
   },
   "file_extension": ".py",
   "mimetype": "text/x-python",
   "name": "python",
   "nbconvert_exporter": "python",
   "pygments_lexer": "ipython3",
   "version": "3.6.13"
  },
  "toc": {
   "base_numbering": 1,
   "nav_menu": {},
   "number_sections": true,
   "sideBar": true,
   "skip_h1_title": false,
   "title_cell": "Table of Contents",
   "title_sidebar": "Contents",
   "toc_cell": false,
   "toc_position": {},
   "toc_section_display": true,
   "toc_window_display": false
  },
  "varInspector": {
   "cols": {
    "lenName": 16,
    "lenType": 16,
    "lenVar": 40
   },
   "kernels_config": {
    "python": {
     "delete_cmd_postfix": "",
     "delete_cmd_prefix": "del ",
     "library": "var_list.py",
     "varRefreshCmd": "print(var_dic_list())"
    },
    "r": {
     "delete_cmd_postfix": ") ",
     "delete_cmd_prefix": "rm(",
     "library": "var_list.r",
     "varRefreshCmd": "cat(var_dic_list()) "
    }
   },
   "types_to_exclude": [
    "module",
    "function",
    "builtin_function_or_method",
    "instance",
    "_Feature"
   ],
   "window_display": false
  }
 },
 "nbformat": 4,
 "nbformat_minor": 4
}
